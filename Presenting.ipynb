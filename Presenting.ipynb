{
 "cells": [
  {
   "cell_type": "markdown",
   "metadata": {
    "_cell_guid": "79c7e3d0-c299-4dcb-8224-4455121ee9b0",
    "_uuid": "d629ff2d2480ee46fbb7e2d37f6b5fab8052498a",
    "collapsed": true
   },
   "source": [
    "# NLP with Job Posting Data <br><br>\n",
    "\n",
    "In this study we are going to deveop a machine learning model to predict the skills that are important for each job. We will use a data set of job postings data from indeed.ca\n",
    "\n",
    "This data set has the job postings information related to 4 job titles: Data Scientist, Carpenter, Registered Nurse, and Customer Service. Using this data set, we are going to predict the top 10 most important skills for each of these titles."
   ]
  },
  {
   "cell_type": "markdown",
   "metadata": {},
   "source": [
    "## Importing Libraries"
   ]
  },
  {
   "cell_type": "code",
   "execution_count": 4,
   "metadata": {},
   "outputs": [],
   "source": [
    "import pandas as pd\n",
    "import matplotlib.pyplot as plt\n",
    "import numpy as np\n",
    "\n",
    "%matplotlib inline"
   ]
  },
  {
   "cell_type": "code",
   "execution_count": 5,
   "metadata": {
    "_cell_guid": "",
    "_uuid": ""
   },
   "outputs": [
    {
     "data": {
      "text/html": [
       "<div>\n",
       "<style scoped>\n",
       "    .dataframe tbody tr th:only-of-type {\n",
       "        vertical-align: middle;\n",
       "    }\n",
       "\n",
       "    .dataframe tbody tr th {\n",
       "        vertical-align: top;\n",
       "    }\n",
       "\n",
       "    .dataframe thead th {\n",
       "        text-align: right;\n",
       "    }\n",
       "</style>\n",
       "<table border=\"1\" class=\"dataframe\">\n",
       "  <thead>\n",
       "    <tr style=\"text-align: right;\">\n",
       "      <th></th>\n",
       "      <th>Job Title</th>\n",
       "      <th>Company Name</th>\n",
       "      <th>Location</th>\n",
       "      <th>job URL</th>\n",
       "      <th>Job Description</th>\n",
       "      <th>Group</th>\n",
       "      <th>Unnamed: 6</th>\n",
       "      <th>Unnamed: 7</th>\n",
       "      <th>Unnamed: 8</th>\n",
       "      <th>Unnamed: 9</th>\n",
       "      <th>Unnamed: 10</th>\n",
       "      <th>Unnamed: 11</th>\n",
       "      <th>Unnamed: 12</th>\n",
       "    </tr>\n",
       "  </thead>\n",
       "  <tbody>\n",
       "    <tr>\n",
       "      <th>0</th>\n",
       "      <td>Data Scientist</td>\n",
       "      <td>MSi Corp (Bell Canada)</td>\n",
       "      <td>Toronto, ON</td>\n",
       "      <td>http://www.indeed.ca/pagead/clk?mo=r&amp;ad=-6NYlb...</td>\n",
       "      <td>Our telecom client is looking for junior and i...</td>\n",
       "      <td>1</td>\n",
       "      <td>NaN</td>\n",
       "      <td>NaN</td>\n",
       "      <td>NaN</td>\n",
       "      <td>NaN</td>\n",
       "      <td>NaN</td>\n",
       "      <td>NaN</td>\n",
       "      <td>NaN</td>\n",
       "    </tr>\n",
       "    <tr>\n",
       "      <th>1</th>\n",
       "      <td>Data Scientist</td>\n",
       "      <td>Modern Cleaning Concept</td>\n",
       "      <td>Lasalle, QC</td>\n",
       "      <td>http://www.indeed.ca/pagead/clk?mo=r&amp;ad=-6NYlb...</td>\n",
       "      <td>Job Description – Data ScientistWe are looking...</td>\n",
       "      <td>1</td>\n",
       "      <td>NaN</td>\n",
       "      <td>NaN</td>\n",
       "      <td>NaN</td>\n",
       "      <td>NaN</td>\n",
       "      <td>NaN</td>\n",
       "      <td>NaN</td>\n",
       "      <td>NaN</td>\n",
       "    </tr>\n",
       "    <tr>\n",
       "      <th>2</th>\n",
       "      <td>Data Scientist</td>\n",
       "      <td>Slice Insurance Technologies Inc.</td>\n",
       "      <td>Ottawa, ON</td>\n",
       "      <td>http://www.indeed.ca/pagead/clk?mo=r&amp;ad=-6NYlb...</td>\n",
       "      <td>WE are Slice Labs (Slice). We’re building a te...</td>\n",
       "      <td>1</td>\n",
       "      <td>NaN</td>\n",
       "      <td>NaN</td>\n",
       "      <td>NaN</td>\n",
       "      <td>NaN</td>\n",
       "      <td>NaN</td>\n",
       "      <td>NaN</td>\n",
       "      <td>NaN</td>\n",
       "    </tr>\n",
       "    <tr>\n",
       "      <th>3</th>\n",
       "      <td>Senior Data Analyst</td>\n",
       "      <td>Instaclick Inc.</td>\n",
       "      <td>Toronto, ON</td>\n",
       "      <td>http://www.indeed.ca/pagead/clk?mo=r&amp;ad=-6NYlb...</td>\n",
       "      <td>This role is responsible for working within th...</td>\n",
       "      <td>1</td>\n",
       "      <td>NaN</td>\n",
       "      <td>NaN</td>\n",
       "      <td>NaN</td>\n",
       "      <td>NaN</td>\n",
       "      <td>NaN</td>\n",
       "      <td>NaN</td>\n",
       "      <td>NaN</td>\n",
       "    </tr>\n",
       "    <tr>\n",
       "      <th>4</th>\n",
       "      <td>Data Scientist</td>\n",
       "      <td>Equitable Life of Canada</td>\n",
       "      <td>Waterloo, ON</td>\n",
       "      <td>http://www.indeed.ca/rc/clk?jk=a3a91d6b9b57a2d...</td>\n",
       "      <td>At Equitable Life of Canada, we realize that y...</td>\n",
       "      <td>1</td>\n",
       "      <td>NaN</td>\n",
       "      <td>NaN</td>\n",
       "      <td>NaN</td>\n",
       "      <td>NaN</td>\n",
       "      <td>NaN</td>\n",
       "      <td>NaN</td>\n",
       "      <td>NaN</td>\n",
       "    </tr>\n",
       "  </tbody>\n",
       "</table>\n",
       "</div>"
      ],
      "text/plain": [
       "             Job Title                       Company Name      Location  \\\n",
       "0       Data Scientist             MSi Corp (Bell Canada)   Toronto, ON   \n",
       "1       Data Scientist            Modern Cleaning Concept   Lasalle, QC   \n",
       "2       Data Scientist  Slice Insurance Technologies Inc.    Ottawa, ON   \n",
       "3  Senior Data Analyst                    Instaclick Inc.   Toronto, ON   \n",
       "4       Data Scientist           Equitable Life of Canada  Waterloo, ON   \n",
       "\n",
       "                                             job URL  \\\n",
       "0  http://www.indeed.ca/pagead/clk?mo=r&ad=-6NYlb...   \n",
       "1  http://www.indeed.ca/pagead/clk?mo=r&ad=-6NYlb...   \n",
       "2  http://www.indeed.ca/pagead/clk?mo=r&ad=-6NYlb...   \n",
       "3  http://www.indeed.ca/pagead/clk?mo=r&ad=-6NYlb...   \n",
       "4  http://www.indeed.ca/rc/clk?jk=a3a91d6b9b57a2d...   \n",
       "\n",
       "                                     Job Description Group Unnamed: 6  \\\n",
       "0  Our telecom client is looking for junior and i...     1        NaN   \n",
       "1  Job Description – Data ScientistWe are looking...     1        NaN   \n",
       "2  WE are Slice Labs (Slice). We’re building a te...     1        NaN   \n",
       "3  This role is responsible for working within th...     1        NaN   \n",
       "4  At Equitable Life of Canada, we realize that y...     1        NaN   \n",
       "\n",
       "  Unnamed: 7 Unnamed: 8 Unnamed: 9 Unnamed: 10 Unnamed: 11  Unnamed: 12  \n",
       "0        NaN        NaN        NaN         NaN         NaN          NaN  \n",
       "1        NaN        NaN        NaN         NaN         NaN          NaN  \n",
       "2        NaN        NaN        NaN         NaN         NaN          NaN  \n",
       "3        NaN        NaN        NaN         NaN         NaN          NaN  \n",
       "4        NaN        NaN        NaN         NaN         NaN          NaN  "
      ]
     },
     "execution_count": 5,
     "metadata": {},
     "output_type": "execute_result"
    }
   ],
   "source": [
    "df = pd.read_csv(\"Jobs.csv\", index_col=False)\n",
    "df.head()"
   ]
  },
  {
   "cell_type": "markdown",
   "metadata": {},
   "source": [
    "# Data Cleaning"
   ]
  },
  {
   "cell_type": "markdown",
   "metadata": {},
   "source": [
    "According to IBM Data Analytics you can expect to spend up to 80% of your time cleaning data. \n",
    "https://towardsdatascience.com/data-cleaning-with-python-and-pandas-detecting-missing-values-3e9c6ebcf78b"
   ]
  },
  {
   "cell_type": "markdown",
   "metadata": {},
   "source": [
    "![](http://)First we need to take care of the missing values"
   ]
  },
  {
   "cell_type": "code",
   "execution_count": 6,
   "metadata": {},
   "outputs": [
    {
     "data": {
      "text/plain": [
       "Index(['Job Title', 'Company Name', 'Location', 'job URL', 'Job Description',\n",
       "       'Group', 'Unnamed: 6', 'Unnamed: 7', 'Unnamed: 8', 'Unnamed: 9',\n",
       "       'Unnamed: 10', 'Unnamed: 11', 'Unnamed: 12'],\n",
       "      dtype='object')"
      ]
     },
     "execution_count": 6,
     "metadata": {},
     "output_type": "execute_result"
    }
   ],
   "source": [
    "df.keys()"
   ]
  },
  {
   "cell_type": "code",
   "execution_count": 7,
   "metadata": {},
   "outputs": [
    {
     "data": {
      "text/html": [
       "<div>\n",
       "<style scoped>\n",
       "    .dataframe tbody tr th:only-of-type {\n",
       "        vertical-align: middle;\n",
       "    }\n",
       "\n",
       "    .dataframe tbody tr th {\n",
       "        vertical-align: top;\n",
       "    }\n",
       "\n",
       "    .dataframe thead th {\n",
       "        text-align: right;\n",
       "    }\n",
       "</style>\n",
       "<table border=\"1\" class=\"dataframe\">\n",
       "  <thead>\n",
       "    <tr style=\"text-align: right;\">\n",
       "      <th></th>\n",
       "      <th>Job Title</th>\n",
       "      <th>Company Name</th>\n",
       "      <th>Location</th>\n",
       "      <th>job URL</th>\n",
       "      <th>Job Description</th>\n",
       "      <th>Group</th>\n",
       "    </tr>\n",
       "  </thead>\n",
       "  <tbody>\n",
       "    <tr>\n",
       "      <th>0</th>\n",
       "      <td>Data Scientist</td>\n",
       "      <td>MSi Corp (Bell Canada)</td>\n",
       "      <td>Toronto, ON</td>\n",
       "      <td>http://www.indeed.ca/pagead/clk?mo=r&amp;ad=-6NYlb...</td>\n",
       "      <td>Our telecom client is looking for junior and i...</td>\n",
       "      <td>1</td>\n",
       "    </tr>\n",
       "    <tr>\n",
       "      <th>1</th>\n",
       "      <td>Data Scientist</td>\n",
       "      <td>Modern Cleaning Concept</td>\n",
       "      <td>Lasalle, QC</td>\n",
       "      <td>http://www.indeed.ca/pagead/clk?mo=r&amp;ad=-6NYlb...</td>\n",
       "      <td>Job Description – Data ScientistWe are looking...</td>\n",
       "      <td>1</td>\n",
       "    </tr>\n",
       "    <tr>\n",
       "      <th>2</th>\n",
       "      <td>Data Scientist</td>\n",
       "      <td>Slice Insurance Technologies Inc.</td>\n",
       "      <td>Ottawa, ON</td>\n",
       "      <td>http://www.indeed.ca/pagead/clk?mo=r&amp;ad=-6NYlb...</td>\n",
       "      <td>WE are Slice Labs (Slice). We’re building a te...</td>\n",
       "      <td>1</td>\n",
       "    </tr>\n",
       "  </tbody>\n",
       "</table>\n",
       "</div>"
      ],
      "text/plain": [
       "        Job Title                       Company Name     Location  \\\n",
       "0  Data Scientist             MSi Corp (Bell Canada)  Toronto, ON   \n",
       "1  Data Scientist            Modern Cleaning Concept  Lasalle, QC   \n",
       "2  Data Scientist  Slice Insurance Technologies Inc.   Ottawa, ON   \n",
       "\n",
       "                                             job URL  \\\n",
       "0  http://www.indeed.ca/pagead/clk?mo=r&ad=-6NYlb...   \n",
       "1  http://www.indeed.ca/pagead/clk?mo=r&ad=-6NYlb...   \n",
       "2  http://www.indeed.ca/pagead/clk?mo=r&ad=-6NYlb...   \n",
       "\n",
       "                                     Job Description Group  \n",
       "0  Our telecom client is looking for junior and i...     1  \n",
       "1  Job Description – Data ScientistWe are looking...     1  \n",
       "2  WE are Slice Labs (Slice). We’re building a te...     1  "
      ]
     },
     "execution_count": 7,
     "metadata": {},
     "output_type": "execute_result"
    }
   ],
   "source": [
    "# Removing the extra columns\n",
    "\n",
    "df=df[['Job Title', 'Company Name', 'Location',\n",
    "       'job URL', 'Job Description', 'Group']]\n",
    "df.head(3)"
   ]
  },
  {
   "cell_type": "markdown",
   "metadata": {},
   "source": [
    "# Getting the number of job postings by job title groups"
   ]
  },
  {
   "cell_type": "code",
   "execution_count": 8,
   "metadata": {},
   "outputs": [
    {
     "data": {
      "text/plain": [
       "array(['1',\n",
       "       'A postdoctoral fellow position is available in the Faculty of Pharmaceutical Sciences at the University of British Columbia (UBC) ‐ in Vancouver, British Columbia, Canada.The successful applicant will become a member of the Collaboration for Outcomes Research and Evaluation (CORE)—an academic research group whose mission is to improve health‐care related outcomes through the application of the best in research, education and practice enhancement strategies. To find out more about the CORE group, please see our website: https://core.ubc.ca.The successful candidate will be involved in an exciting cross‐Canada collaboration to apply advanced data science techniques (eg. data visualization, machine learning, artificial intelligence) to build predictive models of health outcomes among individuals with neurological diseases. The focus of the projects will be in multiple sclerosis (MS), with the potential to expand to other neurological conditions. This is an opportunity to become part of a landmark Canadian longitudinal study of MS progression, incorporating both large retrospective and prospective cohorts with a wide range of data sources and elements (eg. administrative data, clinical assessments, neuroimmunologic measures, and medical imaging). There will also be opportunities to expand or explore applications to health economics and economic evaluation.The successful applicant will play a key role in the success of this Canada‐wide study including: study design, accessing and linking data, ensuring data integrity, recoding/deriving variables, advanced analyses (using both epidemiologic/biostatistical and machine learning methods) and interpretation, presentation of findings, and drafting and publication of scientific manuscripts and grant writing. The successful candidate will also help to mentor and supervise graduate students who are working on this (or related) project(s).QUALIFICATIONSA PhD with expertise in a relevant discipline (e.g. data science, machine-learning, computer science, artificial intelligence, advanced biostatistics, advanced epidemiology)Excellent computer skills, including use of statistical software such as SPSS, STATA, SAS or RExperience with disease modeling (eg. regression, classification, cluster analyses)Experience with and knowledge about, health conditions, such as neurological disease is an assetExperience with large health‐related datasets (eg. linkages) is an assetExcellent interpersonal, oral and written communication skills in EnglishAbility to independently organize workload, set goals and work effectively towards deadlinesUBC is one of the world’s leading universities. UBC’s Vancouver campus has over 47,000 students, representing 140 different countries. UBC offers hundreds of academic programs through 12 faculties and 14 schools. Located on the western tip of the Point Grey Peninsula in the city of Vancouver, the stunning campus is surrounded by forests, ocean and mountains, yet is just 30 minutes from the city centre. For more information about UBC, please go to http://www.ubc.ca.Based in CORE, the Fellow will have a unique opportunity to be supervised and mentored by leading researchers, clinicians, and policy makers with expertise in methods, MS, and other neurologic diseases. The research environment at CORE will provide opportunities for the successful applicant to be become involved in multiple projects, integrate data from these projects to address novel questions, and take a leadership role on specific projects.Preferred start date is as soon as possible but is negotiable, and the position will remain open until filled.Equity and diversity are essential to academic excellence. An open and diverse community fosters the inclusion of voices that have been underrepresented or discouraged. We encourage applications from members of groups that have been marginalized on any grounds enumerated under the B.C. Human Rights Code, including sex, sexual orientation, gender identity or expression, racialization, disability, political belief, religion, marital or family status, age, and/or status as a First Nation, Metis, Inuit, or Indigenous person. All qualified candidates are encouraged to apply; however Canadians and permanent residents of Canada will be given priority.Job Type: Full-time',\n",
       "       '2', 'Recommend personnel actions', '3', '4'], dtype=object)"
      ]
     },
     "execution_count": 8,
     "metadata": {},
     "output_type": "execute_result"
    }
   ],
   "source": [
    "df['Group'].unique()"
   ]
  },
  {
   "cell_type": "code",
   "execution_count": 16,
   "metadata": {},
   "outputs": [
    {
     "data": {
      "text/html": [
       "<div>\n",
       "<style scoped>\n",
       "    .dataframe tbody tr th:only-of-type {\n",
       "        vertical-align: middle;\n",
       "    }\n",
       "\n",
       "    .dataframe tbody tr th {\n",
       "        vertical-align: top;\n",
       "    }\n",
       "\n",
       "    .dataframe thead th {\n",
       "        text-align: right;\n",
       "    }\n",
       "</style>\n",
       "<table border=\"1\" class=\"dataframe\">\n",
       "  <thead>\n",
       "    <tr style=\"text-align: right;\">\n",
       "      <th></th>\n",
       "      <th>Job Title</th>\n",
       "      <th>Company Name</th>\n",
       "      <th>Location</th>\n",
       "      <th>job URL</th>\n",
       "      <th>Job Description</th>\n",
       "      <th>Group</th>\n",
       "    </tr>\n",
       "  </thead>\n",
       "  <tbody>\n",
       "    <tr>\n",
       "      <th>432</th>\n",
       "      <td>Postdoctoral Fellowship in Data Science for Ne...</td>\n",
       "      <td>Collaboration for Outcomes Research and Evalua...</td>\n",
       "      <td>University of British Columbia</td>\n",
       "      <td>Vancouver, BC</td>\n",
       "      <td>http://www.indeed.ca/rc/clk?cmp=Collaboration-...</td>\n",
       "      <td>A postdoctoral fellow position is available in...</td>\n",
       "    </tr>\n",
       "    <tr>\n",
       "      <th>1125</th>\n",
       "      <td>Carpenter / Foreman</td>\n",
       "      <td>Wellington Builders</td>\n",
       "      <td>Forest, ON</td>\n",
       "      <td>http://www.indeed.ca/company/Wellington-Builde...</td>\n",
       "      <td>Job SummaryExperienced Carpenter/ForemanWellin...</td>\n",
       "      <td>Recommend personnel actions</td>\n",
       "    </tr>\n",
       "  </tbody>\n",
       "</table>\n",
       "</div>"
      ],
      "text/plain": [
       "                                              Job Title  \\\n",
       "432   Postdoctoral Fellowship in Data Science for Ne...   \n",
       "1125                                Carpenter / Foreman   \n",
       "\n",
       "                                           Company Name  \\\n",
       "432   Collaboration for Outcomes Research and Evalua...   \n",
       "1125                                Wellington Builders   \n",
       "\n",
       "                             Location  \\\n",
       "432    University of British Columbia   \n",
       "1125                       Forest, ON   \n",
       "\n",
       "                                                job URL  \\\n",
       "432                                       Vancouver, BC   \n",
       "1125  http://www.indeed.ca/company/Wellington-Builde...   \n",
       "\n",
       "                                        Job Description  \\\n",
       "432   http://www.indeed.ca/rc/clk?cmp=Collaboration-...   \n",
       "1125  Job SummaryExperienced Carpenter/ForemanWellin...   \n",
       "\n",
       "                                                  Group  \n",
       "432   A postdoctoral fellow position is available in...  \n",
       "1125                        Recommend personnel actions  "
      ]
     },
     "execution_count": 16,
     "metadata": {},
     "output_type": "execute_result"
    }
   ],
   "source": [
    "df[(df['Group']!='1') & (df['Group']!='2') & (df['Group']!='3') & (df['Group']!='4')]"
   ]
  },
  {
   "cell_type": "markdown",
   "metadata": {},
   "source": [
    "### This shows these two rows have invalid entries in the Group column. Since they are only two rows, we can remove them"
   ]
  },
  {
   "cell_type": "code",
   "execution_count": 17,
   "metadata": {},
   "outputs": [],
   "source": [
    "df = df[(df['Group']=='1') | (df['Group']=='2') | (df['Group']=='3') | (df['Group']=='4')]"
   ]
  },
  {
   "cell_type": "markdown",
   "metadata": {},
   "source": [
    "# Changing data type of the column Group"
   ]
  },
  {
   "cell_type": "code",
   "execution_count": 18,
   "metadata": {},
   "outputs": [],
   "source": [
    "df['Group'] = df['Group'].astype(int)"
   ]
  },
  {
   "cell_type": "code",
   "execution_count": 19,
   "metadata": {},
   "outputs": [
    {
     "data": {
      "text/plain": [
       "Group\n",
       "1    2987\n",
       "2    2121\n",
       "3    1331\n",
       "4    1276\n",
       "Name: Job Title, dtype: int64"
      ]
     },
     "execution_count": 19,
     "metadata": {},
     "output_type": "execute_result"
    }
   ],
   "source": [
    "Number_of_Jobs = df.groupby('Group')['Job Title'].count()\n",
    "Number_of_Jobs.columns=['Job Title ID', 'Number of Job Postings']\n",
    "Number_of_Jobs"
   ]
  },
  {
   "cell_type": "code",
   "execution_count": 22,
   "metadata": {},
   "outputs": [
    {
     "name": "stdout",
     "output_type": "stream",
     "text": [
      "Int64Index([1, 2, 3, 4], dtype='int64', name='Group')\n",
      "[2987, 2121, 1331, 1276]\n"
     ]
    },
    {
     "data": {
      "image/png": "[encoded data removed]",
      "text/plain": [
       "<Figure size 720x576 with 1 Axes>"
      ]
     },
     "metadata": {
      "needs_background": "light"
     },
     "output_type": "display_data"
    }
   ],
   "source": [
    "\n",
    "job_names = ['Data Scientist','Carpenter','Registered Nurse','Customer Service Rep.']\n",
    "colors = ['green', '#006fb9','#006fb9','#006fb9']\n",
    "\n",
    "\n",
    "plt.figure(figsize=(10,8))\n",
    "xvals = Number_of_Jobs.index\n",
    "yvals = Number_of_Jobs.tolist()\n",
    "print(xvals)\n",
    "print(yvals)\n",
    "plt.bar(xvals, yvals, color=colors)\n",
    "plt.xticks(rotation=60)\n",
    "#plt.margins(0.2)\n",
    "\n",
    "plt.subplots_adjust(bottom=0.3, left=0.2)\n",
    "plt.title('Number of Data Science Jobs by City (Top 10 Cities)')\n",
    "plt.xlabel('City')\n",
    "plt.ylabel('Number of Job Postings')\n",
    "plt.xticks(np.arange(min(xvals), max(xvals)+1, 1.0),(job_names))\n",
    "#plt.xticks('A','B','C','D')\n",
    "\n",
    "#Having the y axis formatted as thousand separated\n",
    "ax = plt.gca()\n",
    "ax.get_yaxis().set_major_formatter(plt.FuncFormatter(lambda x, loc: \"{:,}\".format(int(x))))\n",
    "\n",
    "ax.spines['top'].set_visible(False)\n",
    "ax.spines['right'].set_visible(False)\n",
    "\n",
    "for i, v in enumerate(yvals):\n",
    "    ax.text(i+0.9, v+10, str(v))"
   ]
  },
  {
   "cell_type": "markdown",
   "metadata": {},
   "source": [
    "## First we will take only two job titles, Data Scientist and Carpenter"
   ]
  },
  {
   "cell_type": "code",
   "execution_count": 23,
   "metadata": {},
   "outputs": [],
   "source": [
    "df = df[df['Group']<3]\n"
   ]
  },
  {
   "cell_type": "code",
   "execution_count": 24,
   "metadata": {},
   "outputs": [],
   "source": [
    "df['Group'] = np.where(df['Group']==1,0,1)"
   ]
  },
  {
   "cell_type": "code",
   "execution_count": 25,
   "metadata": {},
   "outputs": [
    {
     "data": {
      "text/html": [
       "<div>\n",
       "<style scoped>\n",
       "    .dataframe tbody tr th:only-of-type {\n",
       "        vertical-align: middle;\n",
       "    }\n",
       "\n",
       "    .dataframe tbody tr th {\n",
       "        vertical-align: top;\n",
       "    }\n",
       "\n",
       "    .dataframe thead th {\n",
       "        text-align: right;\n",
       "    }\n",
       "</style>\n",
       "<table border=\"1\" class=\"dataframe\">\n",
       "  <thead>\n",
       "    <tr style=\"text-align: right;\">\n",
       "      <th></th>\n",
       "      <th>Job Title</th>\n",
       "      <th>Company Name</th>\n",
       "      <th>Location</th>\n",
       "      <th>job URL</th>\n",
       "      <th>Job Description</th>\n",
       "      <th>Group</th>\n",
       "    </tr>\n",
       "  </thead>\n",
       "  <tbody>\n",
       "    <tr>\n",
       "      <th>0</th>\n",
       "      <td>Data Scientist</td>\n",
       "      <td>MSi Corp (Bell Canada)</td>\n",
       "      <td>Toronto, ON</td>\n",
       "      <td>http://www.indeed.ca/pagead/clk?mo=r&amp;ad=-6NYlb...</td>\n",
       "      <td>Our telecom client is looking for junior and i...</td>\n",
       "      <td>0</td>\n",
       "    </tr>\n",
       "    <tr>\n",
       "      <th>1</th>\n",
       "      <td>Data Scientist</td>\n",
       "      <td>Modern Cleaning Concept</td>\n",
       "      <td>Lasalle, QC</td>\n",
       "      <td>http://www.indeed.ca/pagead/clk?mo=r&amp;ad=-6NYlb...</td>\n",
       "      <td>Job Description – Data ScientistWe are looking...</td>\n",
       "      <td>0</td>\n",
       "    </tr>\n",
       "    <tr>\n",
       "      <th>2</th>\n",
       "      <td>Data Scientist</td>\n",
       "      <td>Slice Insurance Technologies Inc.</td>\n",
       "      <td>Ottawa, ON</td>\n",
       "      <td>http://www.indeed.ca/pagead/clk?mo=r&amp;ad=-6NYlb...</td>\n",
       "      <td>WE are Slice Labs (Slice). We’re building a te...</td>\n",
       "      <td>0</td>\n",
       "    </tr>\n",
       "    <tr>\n",
       "      <th>3</th>\n",
       "      <td>Senior Data Analyst</td>\n",
       "      <td>Instaclick Inc.</td>\n",
       "      <td>Toronto, ON</td>\n",
       "      <td>http://www.indeed.ca/pagead/clk?mo=r&amp;ad=-6NYlb...</td>\n",
       "      <td>This role is responsible for working within th...</td>\n",
       "      <td>0</td>\n",
       "    </tr>\n",
       "    <tr>\n",
       "      <th>4</th>\n",
       "      <td>Data Scientist</td>\n",
       "      <td>Equitable Life of Canada</td>\n",
       "      <td>Waterloo, ON</td>\n",
       "      <td>http://www.indeed.ca/rc/clk?jk=a3a91d6b9b57a2d...</td>\n",
       "      <td>At Equitable Life of Canada, we realize that y...</td>\n",
       "      <td>0</td>\n",
       "    </tr>\n",
       "    <tr>\n",
       "      <th>...</th>\n",
       "      <td>...</td>\n",
       "      <td>...</td>\n",
       "      <td>...</td>\n",
       "      <td>...</td>\n",
       "      <td>...</td>\n",
       "      <td>...</td>\n",
       "    </tr>\n",
       "    <tr>\n",
       "      <th>7711</th>\n",
       "      <td>WOODWORKING TEACHER 2019-2020</td>\n",
       "      <td>Westside Waldorf School</td>\n",
       "      <td>Pacific Palisades, CA 90272</td>\n",
       "      <td>http://www.indeed.ca/rc/clk?jk=c0b7ee6ed556d69...</td>\n",
       "      <td>Description\\nPart-Time Block Teaching\\n\\nThe W...</td>\n",
       "      <td>1</td>\n",
       "    </tr>\n",
       "    <tr>\n",
       "      <th>7712</th>\n",
       "      <td>Furniture Finisher</td>\n",
       "      <td>Millwork Brothers</td>\n",
       "      <td>Cerritos, CA 90703</td>\n",
       "      <td>http://www.indeed.ca/rc/clk?jk=e69136b9ef83d40...</td>\n",
       "      <td>High-end custom cabinetry and mill work compan...</td>\n",
       "      <td>1</td>\n",
       "    </tr>\n",
       "    <tr>\n",
       "      <th>7713</th>\n",
       "      <td>Lead Art Instructor- Fabrication &amp; Woodworking</td>\n",
       "      <td>Exceptional Children's Foundation</td>\n",
       "      <td>Inglewood, CA</td>\n",
       "      <td>http://www.indeed.ca/rc/clk?jk=2763aab84bef4b9...</td>\n",
       "      <td>Title: Lead Art Instructor – Fabrication and W...</td>\n",
       "      <td>1</td>\n",
       "    </tr>\n",
       "    <tr>\n",
       "      <th>7714</th>\n",
       "      <td>Lead Cabinet Installer</td>\n",
       "      <td>Marmol Radziner</td>\n",
       "      <td>El Segundo, CA 90245</td>\n",
       "      <td>http://www.indeed.ca/pagead/clk?mo=r&amp;ad=-6NYlb...</td>\n",
       "      <td>Job Description(Traducción al español abajo)CA...</td>\n",
       "      <td>1</td>\n",
       "    </tr>\n",
       "    <tr>\n",
       "      <th>7715</th>\n",
       "      <td>Cabinet Maker/Carpenter</td>\n",
       "      <td>CONTEXT</td>\n",
       "      <td>Anaheim, CA</td>\n",
       "      <td>http://www.indeed.ca/pagead/clk?mo=r&amp;ad=-6NYlb...</td>\n",
       "      <td>Context is a small Fabrication and Design Stud...</td>\n",
       "      <td>1</td>\n",
       "    </tr>\n",
       "  </tbody>\n",
       "</table>\n",
       "<p>5107 rows × 6 columns</p>\n",
       "</div>"
      ],
      "text/plain": [
       "                                           Job Title  \\\n",
       "0                                     Data Scientist   \n",
       "1                                     Data Scientist   \n",
       "2                                     Data Scientist   \n",
       "3                                Senior Data Analyst   \n",
       "4                                     Data Scientist   \n",
       "...                                              ...   \n",
       "7711                   WOODWORKING TEACHER 2019-2020   \n",
       "7712                              Furniture Finisher   \n",
       "7713  Lead Art Instructor- Fabrication & Woodworking   \n",
       "7714                          Lead Cabinet Installer   \n",
       "7715                         Cabinet Maker/Carpenter   \n",
       "\n",
       "                           Company Name                     Location  \\\n",
       "0                MSi Corp (Bell Canada)                  Toronto, ON   \n",
       "1               Modern Cleaning Concept                  Lasalle, QC   \n",
       "2     Slice Insurance Technologies Inc.                   Ottawa, ON   \n",
       "3                       Instaclick Inc.                  Toronto, ON   \n",
       "4              Equitable Life of Canada                 Waterloo, ON   \n",
       "...                                 ...                          ...   \n",
       "7711            Westside Waldorf School  Pacific Palisades, CA 90272   \n",
       "7712                  Millwork Brothers           Cerritos, CA 90703   \n",
       "7713  Exceptional Children's Foundation                Inglewood, CA   \n",
       "7714                    Marmol Radziner         El Segundo, CA 90245   \n",
       "7715                            CONTEXT                  Anaheim, CA   \n",
       "\n",
       "                                                job URL  \\\n",
       "0     http://www.indeed.ca/pagead/clk?mo=r&ad=-6NYlb...   \n",
       "1     http://www.indeed.ca/pagead/clk?mo=r&ad=-6NYlb...   \n",
       "2     http://www.indeed.ca/pagead/clk?mo=r&ad=-6NYlb...   \n",
       "3     http://www.indeed.ca/pagead/clk?mo=r&ad=-6NYlb...   \n",
       "4     http://www.indeed.ca/rc/clk?jk=a3a91d6b9b57a2d...   \n",
       "...                                                 ...   \n",
       "7711  http://www.indeed.ca/rc/clk?jk=c0b7ee6ed556d69...   \n",
       "7712  http://www.indeed.ca/rc/clk?jk=e69136b9ef83d40...   \n",
       "7713  http://www.indeed.ca/rc/clk?jk=2763aab84bef4b9...   \n",
       "7714  http://www.indeed.ca/pagead/clk?mo=r&ad=-6NYlb...   \n",
       "7715  http://www.indeed.ca/pagead/clk?mo=r&ad=-6NYlb...   \n",
       "\n",
       "                                        Job Description  Group  \n",
       "0     Our telecom client is looking for junior and i...      0  \n",
       "1     Job Description – Data ScientistWe are looking...      0  \n",
       "2     WE are Slice Labs (Slice). We’re building a te...      0  \n",
       "3     This role is responsible for working within th...      0  \n",
       "4     At Equitable Life of Canada, we realize that y...      0  \n",
       "...                                                 ...    ...  \n",
       "7711  Description\\nPart-Time Block Teaching\\n\\nThe W...      1  \n",
       "7712  High-end custom cabinetry and mill work compan...      1  \n",
       "7713  Title: Lead Art Instructor – Fabrication and W...      1  \n",
       "7714  Job Description(Traducción al español abajo)CA...      1  \n",
       "7715  Context is a small Fabrication and Design Stud...      1  \n",
       "\n",
       "[5107 rows x 6 columns]"
      ]
     },
     "execution_count": 25,
     "metadata": {},
     "output_type": "execute_result"
    }
   ],
   "source": [
    "df.head(-1)"
   ]
  },
  {
   "cell_type": "code",
   "execution_count": 26,
   "metadata": {},
   "outputs": [
    {
     "name": "stdout",
     "output_type": "stream",
     "text": [
      "Int64Index([0, 1], dtype='int64', name='Group')\n",
      "[2987, 2121]\n"
     ]
    },
    {
     "data": {
      "image/png": "[encoded data removed]",
      "text/plain": [
       "<Figure size 504x648 with 1 Axes>"
      ]
     },
     "metadata": {
      "needs_background": "light"
     },
     "output_type": "display_data"
    }
   ],
   "source": [
    "Number_of_Jobs = df.groupby('Group')['Job Title'].count()\n",
    "Number_of_Jobs.columns=['Job Title ID', 'Number of Job Postings']\n",
    "\n",
    "colors = ['green', '#006fb9','#006fb9','#006fb9']\n",
    "\n",
    "\n",
    "plt.figure(figsize=(7,9))\n",
    "xvals = Number_of_Jobs.index\n",
    "yvals = Number_of_Jobs.tolist()\n",
    "print(xvals)\n",
    "print(yvals)\n",
    "plt.bar(xvals, yvals, color=colors)\n",
    "plt.xticks(rotation=90)\n",
    "#plt.margins(0.2)\n",
    "\n",
    "plt.subplots_adjust(bottom=0.3, left=0.2)\n",
    "plt.title('Number of Data Science Jobs by City (Top 10 Cities)')\n",
    "plt.xlabel('City')\n",
    "plt.ylabel('Number of Job Postings')\n",
    "plt.xticks(np.arange(min(xvals), max(xvals)+1, 1.0),('Data Scientist','Carpenter','Registered Nurse','Customer Service Rep.'))\n",
    "#plt.xticks('A','B','C','D')\n",
    "\n",
    "#Having the y axis formatted as thousand separated\n",
    "ax = plt.gca()\n",
    "ax.get_yaxis().set_major_formatter(plt.FuncFormatter(lambda x, loc: \"{:,}\".format(int(x))))\n",
    "\n",
    "ax.spines['top'].set_visible(False)\n",
    "ax.spines['right'].set_visible(False)\n",
    "\n",
    "for i, v in enumerate(yvals):\n",
    "    ax.text(i-0.05, v+10, str(v))"
   ]
  },
  {
   "cell_type": "markdown",
   "metadata": {},
   "source": [
    "## As you see, the data set is unbalanced"
   ]
  },
  {
   "cell_type": "markdown",
   "metadata": {},
   "source": [
    "### Up-sampling the data set"
   ]
  },
  {
   "cell_type": "code",
   "execution_count": 27,
   "metadata": {},
   "outputs": [
    {
     "data": {
      "text/plain": [
       "Group\n",
       "0    2987\n",
       "1    2987\n",
       "Name: Group, dtype: int64"
      ]
     },
     "execution_count": 27,
     "metadata": {},
     "output_type": "execute_result"
    }
   ],
   "source": [
    "from sklearn.utils import resample \n",
    "\n",
    "\n",
    "# Separate majority and minority classes\n",
    "df_majority = df[df['Group']==0]\n",
    "df_minority = df[df['Group']==1]\n",
    " \n",
    "# Upsample minority class\n",
    "df_minority_upsampled = resample(df_minority, \n",
    "                                 replace=True,     # sample with replacement\n",
    "                                 n_samples=len(df_majority),    # to match majority class\n",
    "                                 random_state=123) # reproducible results\n",
    " \n",
    "# Combine majority class with upsampled minority class\n",
    "df_upsampled = pd.concat([df_majority, df_minority_upsampled])\n",
    " \n",
    "# Display new class counts\n",
    "\n",
    "df_upsampled.groupby('Group')['Group'].count()"
   ]
  },
  {
   "cell_type": "code",
   "execution_count": 28,
   "metadata": {},
   "outputs": [],
   "source": [
    "df = df_upsampled.copy()"
   ]
  },
  {
   "cell_type": "code",
   "execution_count": 29,
   "metadata": {},
   "outputs": [
    {
     "name": "stdout",
     "output_type": "stream",
     "text": [
      "Int64Index([0, 1], dtype='int64', name='Group')\n",
      "[2987, 2987]\n"
     ]
    },
    {
     "data": {
      "image/png": "[encoded data removed]",
      "text/plain": [
       "<Figure size 504x648 with 1 Axes>"
      ]
     },
     "metadata": {
      "needs_background": "light"
     },
     "output_type": "display_data"
    }
   ],
   "source": [
    "Number_of_Jobs = df.groupby('Group')['Job Title'].count()\n",
    "Number_of_Jobs.columns=['Job Title ID', 'Number of Job Postings']\n",
    "\n",
    "colors = ['green', '#006fb9','#006fb9','#006fb9']\n",
    "\n",
    "\n",
    "plt.figure(figsize=(7,9))\n",
    "xvals = Number_of_Jobs.index\n",
    "yvals = Number_of_Jobs.tolist()\n",
    "print(xvals)\n",
    "print(yvals)\n",
    "plt.bar(xvals, yvals, color=colors)\n",
    "plt.xticks(rotation=90)\n",
    "#plt.margins(0.2)\n",
    "\n",
    "plt.subplots_adjust(bottom=0.3, left=0.2)\n",
    "plt.title('Number of Data Science Jobs by City (Top 10 Cities)')\n",
    "plt.xlabel('City')\n",
    "plt.ylabel('Number of Job Postings')\n",
    "plt.xticks(np.arange(min(xvals), max(xvals)+1, 1.0),('Data Scientist','Carpenter','Registered Nurse','Customer Service Rep.'))\n",
    "#plt.xticks('A','B','C','D')\n",
    "\n",
    "#Having the y axis formatted as thousand separated\n",
    "ax = plt.gca()\n",
    "ax.get_yaxis().set_major_formatter(plt.FuncFormatter(lambda x, loc: \"{:,}\".format(int(x))))\n",
    "\n",
    "ax.spines['top'].set_visible(False)\n",
    "ax.spines['right'].set_visible(False)\n",
    "\n",
    "for i, v in enumerate(yvals):\n",
    "    ax.text(i-0.05, v+10, str(v))"
   ]
  },
  {
   "cell_type": "markdown",
   "metadata": {},
   "source": [
    "# Machine Learning with Sklearn"
   ]
  },
  {
   "cell_type": "code",
   "execution_count": 30,
   "metadata": {},
   "outputs": [
    {
     "data": {
      "text/html": [
       "<div>\n",
       "<style scoped>\n",
       "    .dataframe tbody tr th:only-of-type {\n",
       "        vertical-align: middle;\n",
       "    }\n",
       "\n",
       "    .dataframe tbody tr th {\n",
       "        vertical-align: top;\n",
       "    }\n",
       "\n",
       "    .dataframe thead th {\n",
       "        text-align: right;\n",
       "    }\n",
       "</style>\n",
       "<table border=\"1\" class=\"dataframe\">\n",
       "  <thead>\n",
       "    <tr style=\"text-align: right;\">\n",
       "      <th></th>\n",
       "      <th>Job Title</th>\n",
       "      <th>Company Name</th>\n",
       "      <th>Location</th>\n",
       "      <th>job URL</th>\n",
       "      <th>Job Description</th>\n",
       "      <th>Group</th>\n",
       "    </tr>\n",
       "  </thead>\n",
       "  <tbody>\n",
       "    <tr>\n",
       "      <th>0</th>\n",
       "      <td>Data Scientist</td>\n",
       "      <td>MSi Corp (Bell Canada)</td>\n",
       "      <td>Toronto, ON</td>\n",
       "      <td>http://www.indeed.ca/pagead/clk?mo=r&amp;ad=-6NYlb...</td>\n",
       "      <td>Our telecom client is looking for junior and i...</td>\n",
       "      <td>0</td>\n",
       "    </tr>\n",
       "    <tr>\n",
       "      <th>1</th>\n",
       "      <td>Data Scientist</td>\n",
       "      <td>Modern Cleaning Concept</td>\n",
       "      <td>Lasalle, QC</td>\n",
       "      <td>http://www.indeed.ca/pagead/clk?mo=r&amp;ad=-6NYlb...</td>\n",
       "      <td>Job Description – Data ScientistWe are looking...</td>\n",
       "      <td>0</td>\n",
       "    </tr>\n",
       "    <tr>\n",
       "      <th>2</th>\n",
       "      <td>Data Scientist</td>\n",
       "      <td>Slice Insurance Technologies Inc.</td>\n",
       "      <td>Ottawa, ON</td>\n",
       "      <td>http://www.indeed.ca/pagead/clk?mo=r&amp;ad=-6NYlb...</td>\n",
       "      <td>WE are Slice Labs (Slice). We’re building a te...</td>\n",
       "      <td>0</td>\n",
       "    </tr>\n",
       "  </tbody>\n",
       "</table>\n",
       "</div>"
      ],
      "text/plain": [
       "        Job Title                       Company Name     Location  \\\n",
       "0  Data Scientist             MSi Corp (Bell Canada)  Toronto, ON   \n",
       "1  Data Scientist            Modern Cleaning Concept  Lasalle, QC   \n",
       "2  Data Scientist  Slice Insurance Technologies Inc.   Ottawa, ON   \n",
       "\n",
       "                                             job URL  \\\n",
       "0  http://www.indeed.ca/pagead/clk?mo=r&ad=-6NYlb...   \n",
       "1  http://www.indeed.ca/pagead/clk?mo=r&ad=-6NYlb...   \n",
       "2  http://www.indeed.ca/pagead/clk?mo=r&ad=-6NYlb...   \n",
       "\n",
       "                                     Job Description  Group  \n",
       "0  Our telecom client is looking for junior and i...      0  \n",
       "1  Job Description – Data ScientistWe are looking...      0  \n",
       "2  WE are Slice Labs (Slice). We’re building a te...      0  "
      ]
     },
     "execution_count": 30,
     "metadata": {},
     "output_type": "execute_result"
    }
   ],
   "source": [
    "df.head(3)"
   ]
  },
  {
   "cell_type": "code",
   "execution_count": 31,
   "metadata": {},
   "outputs": [
    {
     "data": {
      "text/plain": [
       "array([0, 1])"
      ]
     },
     "execution_count": 31,
     "metadata": {},
     "output_type": "execute_result"
    }
   ],
   "source": [
    "df.Group.unique()"
   ]
  },
  {
   "cell_type": "code",
   "execution_count": 32,
   "metadata": {},
   "outputs": [],
   "source": [
    "from sklearn.model_selection import train_test_split\n",
    "\n",
    "# Split data into train and test sets\n",
    "X_train, X_test, y_train, y_test = train_test_split(df['Job Description'],\n",
    "                                                   df['Group'],\n",
    "                                                   random_state=0)"
   ]
  },
  {
   "cell_type": "code",
   "execution_count": 33,
   "metadata": {},
   "outputs": [
    {
     "name": "stdout",
     "output_type": "stream",
     "text": [
      "X_train first entry:\n",
      "\n",
      " Job Description:\n",
      "We are looking for a Data Scientist to join our team in launching a new data product for crypto asset investors. You will apply your machine learning and cognitive computing skills to vast and varied data sets. In this role, you will work with product / project managers, designers, and engineers to build and scale our business. Our application is being built completely in the cloud. We use modern technologies and are always open to improving our tools and our process.\n",
      "The Team\n",
      "The Fidelity Center for Applied Technology (FCAT) supports the entire Fidelity business with a mission to catalyze innovation for Fidelity and its clients. We are a group within FCAT that is leading efforts on exploring blockchain technologies to disrupt business models and provide new opportunities with new products and services—this team was the launching pad for the recently announced Fidelity Digital Asset Services (FDAS). We have a multi-disciplinary team of software engineers, researchers, designers, product managers, and security and compliance experts. We’re growing our team to accelerate development of a new business opportunity that we’ve identified.\n",
      "This role is in Boston, MA.\n",
      "The Expertise You Have\n",
      " Master’s degree in a numerate field (statistics, computer science, engineering, physics, economics etc.)\n",
      " At least 4 years of post-degree experience in an applied data science role, or PhD with at least 2 years of work experience (includes Post-Doc)\n",
      " Proven experience producing deliverables in a fast-paced environment\n",
      " Have a working knowledge of databases and SQL (Structured Query Language).\n",
      " Experience with common data science toolkits, such as Python, R etc., with expert proficiency in at least one\n",
      " Experience with at least two of Social Network Analysis, Knowledge Graphs, Predictive Modeling, Language Processing (including NLP) is strongly desired\n",
      " Experience sourcing and experimenting with data from web sources (REST APIs, web scraping)\n",
      " 2 or more years working in an Agile/Scrum/Lean environment.\n",
      "The Skills You Bring\n",
      " Thrive in a fast-paced, results driven startup-type environment\n",
      " Proven ability to coordinate work with a globally distributed team\n",
      " Enjoy collaborating with other developers and white-boarding problems\n",
      " Excellent troubleshooting skills for when the playbook just doesn't cover it, and strong desire to learn new skills\n",
      " Ability to work with Design and Product to truly understand the user/business need in order to develop disruptive products, and with Engineering to implement models in a live product\n",
      " Keen understanding of machine learning techniques and algorithms\n",
      " Experience with Deep Learning toolkits and Bayesian Statistics\n",
      " Proficiency in using SQL, Hadoop/Spark for data extraction and analysis\n",
      " Good applied statistics skills, such as distributions, statistical testing, DOE etc.\n",
      "The Value You Deliver\n",
      "We are developing a Data Science competency within Fidelity Center for Applied Technologies to help understand, develop and test the data enabled products and services of Fidelity’s future. As such we are seeking Data Scientists that are excited by the opportunity and comfortable with the productive ambiguity that new product/service development entails.\n",
      "You will apply your machine learning and cognitive computing skills to vast and varied data sets on one of the industry’s leading developmental networks. The role will be a core member of an AI/ML focused incubator team consisting of Product, Design Thinking, Engineering and System Architecture professionals, all focused on developing products and services to improve investment outcomes and enrich the customer experience in the Crypto Asset Analytic space.\n",
      "Company Overview\n",
      "At Fidelity, we are focused on making our financial expertise broadly accessible and effective in helping people live the lives they want. We are a privately held company that places a high degree of value in creating and nurturing a work environment that attracts the best talent and reflects our commitment to our associates. We are proud of our diverse and inclusive workplace where we respect and value our associate for their unique perspectives and experiences. For information about working at Fidelity, visit FidelityCareers.com.\n",
      "Fidelity Investments is an equal opportunity employer.\n",
      "Certifications:\n",
      "Category:\n",
      "Business Analytics and Insights\n",
      "\n",
      "\n",
      "X_train shape:  (4480,)\n"
     ]
    }
   ],
   "source": [
    "print('X_train first entry:\\n\\n', X_train.iloc[0])\n",
    "print('\\n\\nX_train shape: ', X_train.shape)"
   ]
  },
  {
   "cell_type": "code",
   "execution_count": 34,
   "metadata": {},
   "outputs": [
    {
     "data": {
      "text/plain": [
       "5201    Job Description:\\nWe are looking for a Data Sc...\n",
       "508     The Faculty of Applied Science and Engineering...\n",
       "7480    Guy Carpenter is a leading global risk and rei...\n",
       "88      Introduction\\nAt IBM, work is more than a job ...\n",
       "7619    Position Summary:\\nBored with rough carpentry?...\n",
       "Name: Job Description, dtype: object"
      ]
     },
     "execution_count": 34,
     "metadata": {},
     "output_type": "execute_result"
    }
   ],
   "source": [
    "X_train.head()"
   ]
  },
  {
   "cell_type": "markdown",
   "metadata": {},
   "source": [
    "## CountVectorizer"
   ]
  },
  {
   "cell_type": "code",
   "execution_count": 35,
   "metadata": {},
   "outputs": [],
   "source": [
    "from sklearn.feature_extraction.text import CountVectorizer\n",
    "\n",
    "# Fit the CountVectorizer to the training data\n",
    "vect = CountVectorizer().fit(X_train)"
   ]
  },
  {
   "cell_type": "code",
   "execution_count": 36,
   "metadata": {},
   "outputs": [
    {
     "data": {
      "text/plain": [
       "['00',\n",
       " '609',\n",
       " 'agora',\n",
       " 'assetmoerae',\n",
       " 'bizj',\n",
       " 'cartoon',\n",
       " 'committee',\n",
       " 'covenanthealth',\n",
       " 'deployable',\n",
       " 'drpm',\n",
       " 'epidemic',\n",
       " 'fft',\n",
       " 'gems',\n",
       " 'hiking',\n",
       " 'ingest',\n",
       " 'juntar',\n",
       " 'locationpay',\n",
       " 'metabase',\n",
       " 'necessitates',\n",
       " 'orchestration',\n",
       " 'phoenix',\n",
       " 'problemscommunicate',\n",
       " 'randomizationsolid',\n",
       " 'resides',\n",
       " 'scientistanalytics',\n",
       " 'skylights',\n",
       " 'streamsability',\n",
       " 'tend',\n",
       " 'trips',\n",
       " 'virven',\n",
       " 'zodius']"
      ]
     },
     "execution_count": 36,
     "metadata": {},
     "output_type": "execute_result"
    }
   ],
   "source": [
    "vect.get_feature_names()[::1000]"
   ]
  },
  {
   "cell_type": "markdown",
   "metadata": {},
   "source": [
    "# Finding the number of features after the CountVectorizer"
   ]
  },
  {
   "cell_type": "code",
   "execution_count": 37,
   "metadata": {},
   "outputs": [
    {
     "name": "stdout",
     "output_type": "stream",
     "text": [
      "We now have 30133 features after fitting the CountVectorizer on training set\n"
     ]
    }
   ],
   "source": [
    "print('We now have',len(vect.get_feature_names()),'features after fitting the CountVectorizer on training set')"
   ]
  },
  {
   "cell_type": "code",
   "execution_count": 38,
   "metadata": {},
   "outputs": [
    {
     "data": {
      "text/plain": [
       "<4480x30133 sparse matrix of type '<class 'numpy.int64'>'\n",
       "\twith 967692 stored elements in Compressed Sparse Row format>"
      ]
     },
     "execution_count": 38,
     "metadata": {},
     "output_type": "execute_result"
    }
   ],
   "source": [
    "# transform the documents in the training data to a document-term matrix\n",
    "X_train_vectorized = vect.transform(X_train)\n",
    "\n",
    "X_train_vectorized"
   ]
  },
  {
   "cell_type": "markdown",
   "metadata": {},
   "source": [
    "# Training the model"
   ]
  },
  {
   "cell_type": "code",
   "execution_count": 39,
   "metadata": {},
   "outputs": [],
   "source": [
    "from sklearn.linear_model import LogisticRegression\n",
    "\n",
    "# Train the model\n",
    "model = LogisticRegression().fit(X_train_vectorized, y_train)"
   ]
  },
  {
   "cell_type": "code",
   "execution_count": 40,
   "metadata": {},
   "outputs": [
    {
     "name": "stdout",
     "output_type": "stream",
     "text": [
      "AUC: 0.9966261808367072\n"
     ]
    }
   ],
   "source": [
    "from sklearn.metrics import roc_auc_score\n",
    "\n",
    "# Predict the transformed test documents\n",
    "prediction = model.predict(vect.transform(X_test))\n",
    "\n",
    "print('AUC:', roc_auc_score(y_test,prediction))"
   ]
  },
  {
   "cell_type": "code",
   "execution_count": 41,
   "metadata": {},
   "outputs": [
    {
     "name": "stdout",
     "output_type": "stream",
     "text": [
      "Coefficients related to job title 1 (Data Scientist):\n",
      " ['name' 'data' 'learning' 'machine' 'science' 'business' 'systems'\n",
      " 'software' 'intelligence' 'engineering' 'ai' 'analytics' 'or' 'computer'\n",
      " 'provide' 'sql' 'alloy' 'research' 'engineer' 'using']\n",
      "\n",
      "Coefficients related to job title 2 (Carpenter):\n",
      " ['unknown' 'carpentry' 'type' 'construction' 'work' 'carpenter' 'full'\n",
      " 'materials' 'carpenters' 'experienced' 'tools' 'who' 'area' 'please' '00'\n",
      " 'must' 'an' 'wood' 'cabinet' 'years']\n",
      "\n"
     ]
    }
   ],
   "source": [
    "# Get feature names as numpy array\n",
    "feature_names = np.array(vect.get_feature_names())\n",
    "\n",
    "# Sort the coefficients from the model\n",
    "sorted_coef_index = model.coef_[0].argsort()\n",
    "#print(sorted_coef_index)\n",
    "# Find the 10 smalles and 10 largest coefficients\n",
    "# The 10 largest coefficients are bein indexed using [:-11:-1]\n",
    "\n",
    "print('Coefficients related to job title 1 (Data Scientist):\\n {}\\n'.format(feature_names[sorted_coef_index[:20]]))\n",
    "print('Coefficients related to job title 2 (Carpenter):\\n {}\\n'.format(feature_names[sorted_coef_index[:-21:-1]]))"
   ]
  },
  {
   "cell_type": "markdown",
   "metadata": {},
   "source": [
    "# Improving the results:\n",
    "\n",
    "As you can see, the model was able to find the keywords related to each job title. But there are still some words that are not related, such as \"with\", \"unknown\", and \"00\".<br>\n",
    "For improving the results, we are going to use Tfidf\n",
    "\n",
    "Also you can see that the model was able to find the keywords \"machine\", and \"learning\" related to Data Scientist job title separately, but the model was not able to detect that Machine Learning is considered as one term. We will use n-grams to improve the model regarding this issue."
   ]
  },
  {
   "cell_type": "markdown",
   "metadata": {},
   "source": [
    "# Tfidf"
   ]
  },
  {
   "cell_type": "markdown",
   "metadata": {},
   "source": [
    "1. Tfidf is an statistical approach<br><br>\n",
    "\n",
    "**Tf–idf, or Term frequency-inverse document frequency, allows us to weight terms based on how important they are to a document.\n",
    "High weight is given to terms that appear often in a particular document, but don't appear often in the corpus.\n",
    "Features with low tf–idf are either commonly used across all documents or rarely used and only occur in long documents.\n",
    "Features with high tf–idf are frequently used within specific documents, but rarely used across all documents. "
   ]
  },
  {
   "cell_type": "markdown",
   "metadata": {},
   "source": [
    "## There is a possibility that Tfidf cant be a good aproach, because this metric calculates the number of times a word appears in a text (term frequency) and compares it with the inverse document frequency (how rare or common that word is in the entire data set)[](http://)\n",
    "\n",
    "Also the words that appear more frequently in a group of documents are not necessarily the most relevant. Likewise, a word that appears in a single text but doesn’t appear in the remaining documents may be very important to understand the content of that text. "
   ]
  },
  {
   "cell_type": "markdown",
   "metadata": {},
   "source": [
    "# Now we are going to use RAKE (Rapid Automated Heyword Extraction)\n",
    "\n"
   ]
  },
  {
   "cell_type": "markdown",
   "metadata": {},
   "source": [
    "# Also if we find a way to consider names only, that might be helpful as well. (Linguistic Approach)\n",
    "Most systems that use some kind of linguistic information outperform those that don’t do so. We strongly recommend that you try some of them when extracting keywords from your texts."
   ]
  },
  {
   "cell_type": "markdown",
   "metadata": {},
   "source": []
  },
  {
   "cell_type": "code",
   "execution_count": 42,
   "metadata": {},
   "outputs": [
    {
     "data": {
      "text/plain": [
       "2778"
      ]
     },
     "execution_count": 42,
     "metadata": {},
     "output_type": "execute_result"
    }
   ],
   "source": [
    "from sklearn.feature_extraction.text import TfidfVectorizer\n",
    "\n",
    "# Fit the TfidfVectorizer (term frequency–inverse document frequency) to the training data specifiying a minimum document frequency of 5\n",
    "vect = TfidfVectorizer(min_df=50).fit(X_train)\n",
    "len(vect.get_feature_names())"
   ]
  },
  {
   "cell_type": "markdown",
   "metadata": {},
   "source": [
    "Here you can see that by using the Tfidf Vectorizer, "
   ]
  },
  {
   "cell_type": "code",
   "execution_count": 43,
   "metadata": {},
   "outputs": [
    {
     "name": "stdout",
     "output_type": "stream",
     "text": [
      "AUC:  0.9973009446693657\n"
     ]
    }
   ],
   "source": [
    "X_train_vectorized = vect.transform(X_train)\n",
    "\n",
    "model = LogisticRegression()\n",
    "model.fit(X_train_vectorized, y_train)\n",
    "\n",
    "predictions = model.predict(vect.transform(X_test))\n",
    "\n",
    "print('AUC: ', roc_auc_score(y_test, predictions))"
   ]
  },
  {
   "cell_type": "markdown",
   "metadata": {},
   "source": [
    "You can see that we could get the same AUC with about 1/4 of the features. "
   ]
  },
  {
   "cell_type": "code",
   "execution_count": 44,
   "metadata": {},
   "outputs": [],
   "source": [
    "feature_names = np.array(vect.get_feature_names())\n",
    "\n",
    "sorted_tfidf_index = X_train_vectorized.max(0).toarray()[0].argsort()\n",
    "\n",
    "\n",
    "#print('Smallest tfidf:\\n{}\\n'.format(feature_names[sorted_tfidf_index[:40]]))\n",
    "#print('Largest tfidf: \\n{}'.format(feature_names[sorted_tfidf_index[:-41:-1]]))"
   ]
  },
  {
   "cell_type": "code",
   "execution_count": 45,
   "metadata": {},
   "outputs": [
    {
     "name": "stdout",
     "output_type": "stream",
     "text": [
      "Smallest Coefs:\n",
      "['data' 'learning' 'machine' 'science' 'research' 'the' 'business' 'in'\n",
      " 'development' 'analytics' 'statistical' 'software' 'with' 'analysis'\n",
      " 'name' 'ai' 'de' 'engineering' 'models' 'or' 'programming' 'computer'\n",
      " 'experience' 'technical' 'python' 'and' 'intelligence' 'et' 'deep'\n",
      " 'product' 'statistics' 'solutions' 'ml' 'world' 'technology' 'degree'\n",
      " 'algorithms' 'clinical' 'systems' 'optimization']\n",
      "\n",
      "Largest Coefs: \n",
      "['carpentry' 'construction' 'carpenter' 'work' 'must' '00' 'materials'\n",
      " 'safety' 'equipment' 'job' 'wood' 'carpenters' 'full' 'repair'\n",
      " 'installation' 'maintenance' 'license' 'type' 'concrete' 'shop' 'be'\n",
      " 'residential' 'install' 'site' 'valid' 'safe' 'hand' 'doors' 'able'\n",
      " 'read' 'trades' 'time' 'cabinet' 'driver' 'drawings' 'skilled' 'repairs'\n",
      " 'framing' 'home' 'year']\n"
     ]
    }
   ],
   "source": [
    "sorted_coef_index = model.coef_[0].argsort()\n",
    "\n",
    "print('Smallest Coefs:\\n{}\\n'.format(feature_names[sorted_coef_index[:40]]))\n",
    "print('Largest Coefs: \\n{}'.format(feature_names[sorted_coef_index[:-41:-1]]))"
   ]
  },
  {
   "cell_type": "markdown",
   "metadata": {},
   "source": [
    "# Lowercasing the text"
   ]
  },
  {
   "cell_type": "code",
   "execution_count": 46,
   "metadata": {},
   "outputs": [],
   "source": [
    "df['Job Description'] = df['Job Description'].str.lower().str.replace(',', ' ').str.replace('.' , ' ').str.replace('  ',' ')"
   ]
  },
  {
   "cell_type": "markdown",
   "metadata": {},
   "source": [
    "# Stopword Removal using NLTK"
   ]
  },
  {
   "cell_type": "code",
   "execution_count": 47,
   "metadata": {},
   "outputs": [],
   "source": [
    "# The following code is to remove stop words from sentence using nltk\n",
    "# Created by - ANALYTICS VIDHYA\n",
    "\n",
    "# importing libraries\n",
    "import nltk\n",
    "from nltk.corpus import stopwords\n",
    "from nltk.tokenize import word_tokenize \n",
    "set(stopwords.words('english'))\n",
    "\n",
    "def stop_word_remover(text):\n",
    "\n",
    "\n",
    "    # set of stop words\n",
    "    stop_words = set(stopwords.words('english')) \n",
    "    #print(stop_words)\n",
    "    # tokens of words  \n",
    "    word_tokens = word_tokenize(text) \n",
    "\n",
    "    filtered_sentence = [] \n",
    "\n",
    "    for w in word_tokens: \n",
    "        if w not in stop_words: \n",
    "            filtered_sentence.append(w) \n",
    "\n",
    "\n",
    "\n",
    "    #print(\"\\n\\nOriginal Sentence \\n\\n\")\n",
    "    #print(\" \".join(word_tokens)) \n",
    "    #print('***************************************')\n",
    "    \n",
    "    result = \" \".join(filtered_sentence)\n",
    "    #print(result) \n",
    "    return result"
   ]
  },
  {
   "cell_type": "code",
   "execution_count": 48,
   "metadata": {},
   "outputs": [],
   "source": [
    "df['Job Description'] = df['Job Description'].apply(stop_word_remover)"
   ]
  },
  {
   "cell_type": "code",
   "execution_count": null,
   "metadata": {},
   "outputs": [],
   "source": []
  },
  {
   "cell_type": "markdown",
   "metadata": {},
   "source": [
    "# n-grams <br><br>\n",
    "\n",
    "https://monkeylearn.com/keyword-extraction/\n",
    "Word Collocations and Co-occurrences\n",
    "\n",
    "Also known as N-gram statistics, word collocations and co-occurrences can help you understand the semantic structure of a text and count separate words as one.\n",
    "\n",
    "Collocations are words that frequently go together. The most common types of collocations are bi-grams (two terms that appear adjacently, like ‘customer service’, ‘video calls’ or ‘email notification’) and tri-grams (a group of three words, like ‘easy to use’ or ‘social media channels’). "
   ]
  },
  {
   "cell_type": "code",
   "execution_count": 49,
   "metadata": {},
   "outputs": [
    {
     "data": {
      "text/plain": [
       "2541"
      ]
     },
     "execution_count": 49,
     "metadata": {},
     "output_type": "execute_result"
    }
   ],
   "source": [
    "from sklearn.model_selection import train_test_split\n",
    "\n",
    "# Split data into train and test sets\n",
    "X_train, X_test, y_train, y_test = train_test_split(df['Job Description'],\n",
    "                                                   df['Group'],\n",
    "                                                   random_state=0)\n",
    "\n",
    "\n",
    "# Fit the CountVectorizer to the training data specifiying a minimum \n",
    "# document frequency of 5 and extracting 1-grams and 2-grams\n",
    "vect = CountVectorizer(min_df=100, ngram_range=(1,3)).fit(X_train)\n",
    "\n",
    "X_train_vectorized = vect.transform(X_train)\n",
    "\n",
    "len(vect.get_feature_names())"
   ]
  },
  {
   "cell_type": "code",
   "execution_count": 50,
   "metadata": {},
   "outputs": [
    {
     "name": "stdout",
     "output_type": "stream",
     "text": [
      "AUC:  0.9959514170040487\n"
     ]
    }
   ],
   "source": [
    "model = LogisticRegression()\n",
    "model.fit(X_train_vectorized, y_train)\n",
    "\n",
    "predictions = model.predict(vect.transform(X_test))\n",
    "\n",
    "print('AUC: ', roc_auc_score(y_test, predictions))"
   ]
  },
  {
   "cell_type": "code",
   "execution_count": 51,
   "metadata": {},
   "outputs": [
    {
     "name": "stdout",
     "output_type": "stream",
     "text": [
      "Smallest Coefs:\n",
      "['data' 'machine' 'intelligence' 'learning' 'python' 'science' 'ai'\n",
      " 'software' 'systems' 'sql' 'business' 're' 'machine learning'\n",
      " 'optimization' 'using' 'research' 'technology' 'description' 'analytics'\n",
      " 'marketing']\n",
      "\n",
      "Largest Coefs: \n",
      "['carpentry' 'carpenter' 'construction' 'area' 'work' 'experienced' 'type'\n",
      " 'materials' 'carpenters' 'type full' 'full' 'must' 'job type' 'tools'\n",
      " 'contact' 'installation' 'cabinet' 'please' 'wood' 'time']\n"
     ]
    }
   ],
   "source": [
    "feature_names = np.array(vect.get_feature_names())\n",
    "\n",
    "sorted_coef_index = model.coef_[0].argsort()\n",
    "\n",
    "print('Smallest Coefs:\\n{}\\n'.format(feature_names[sorted_coef_index[:20]]))\n",
    "print('Largest Coefs: \\n{}'.format(feature_names[sorted_coef_index[:-21:-1]]))"
   ]
  },
  {
   "cell_type": "code",
   "execution_count": 52,
   "metadata": {},
   "outputs": [
    {
     "data": {
      "text/plain": [
       "['data',\n",
       " 'machine',\n",
       " 'intelligence',\n",
       " 'learning',\n",
       " 'python',\n",
       " 'science',\n",
       " 'ai',\n",
       " 'software',\n",
       " 'systems',\n",
       " 'sql',\n",
       " 'business',\n",
       " 're',\n",
       " 'machine learning',\n",
       " 'optimization',\n",
       " 'using',\n",
       " 'research',\n",
       " 'technology',\n",
       " 'description',\n",
       " 'analytics',\n",
       " 'marketing']"
      ]
     },
     "execution_count": 52,
     "metadata": {},
     "output_type": "execute_result"
    }
   ],
   "source": [
    "first_list = list(feature_names[sorted_coef_index[:20]])\n",
    "first_list"
   ]
  },
  {
   "cell_type": "code",
   "execution_count": 53,
   "metadata": {},
   "outputs": [
    {
     "data": {
      "text/plain": [
       "866"
      ]
     },
     "execution_count": 53,
     "metadata": {},
     "output_type": "execute_result"
    }
   ],
   "source": [
    "from sklearn.model_selection import train_test_split\n",
    "\n",
    "# Split data into train and test sets\n",
    "X_train, X_test, y_train, y_test = train_test_split(df['Job Description'],\n",
    "                                                   df['Group'],\n",
    "                                                   random_state=0)\n",
    "\n",
    "\n",
    "# Fit the CountVectorizer to the training data specifiying a minimum \n",
    "# document frequency of 5 and extracting 1-grams and 2-grams\n",
    "vect = CountVectorizer(min_df=100, ngram_range=(2,3)).fit(X_train)\n",
    "\n",
    "X_train_vectorized = vect.transform(X_train)\n",
    "\n",
    "len(vect.get_feature_names())"
   ]
  },
  {
   "cell_type": "code",
   "execution_count": 54,
   "metadata": {},
   "outputs": [
    {
     "name": "stdout",
     "output_type": "stream",
     "text": [
      "AUC:  0.9905640595512686\n"
     ]
    }
   ],
   "source": [
    "model = LogisticRegression()\n",
    "model.fit(X_train_vectorized, y_train)\n",
    "\n",
    "predictions = model.predict(vect.transform(X_test))\n",
    "\n",
    "print('AUC: ', roc_auc_score(y_test, predictions))"
   ]
  },
  {
   "cell_type": "code",
   "execution_count": 55,
   "metadata": {},
   "outputs": [
    {
     "name": "stdout",
     "output_type": "stream",
     "text": [
      "Smallest Coefs:\n",
      "['machine learning' 'artificial intelligence' 'data science'\n",
      " 'data scientist' 'computer science' 'data analysis' 'master degree'\n",
      " 'statistical analysis' 'deep learning' 'data analyst'\n",
      " 'software development']\n",
      "\n",
      "Largest Coefs: \n",
      "['driver license' 'hand tools' 'ability read' 'power tools' 'job site'\n",
      " 'customer service' 'type full' 'finish carpentry' 'must able'\n",
      " 'drivers license' 'work area']\n"
     ]
    }
   ],
   "source": [
    "feature_names = np.array(vect.get_feature_names())\n",
    "\n",
    "sorted_coef_index = model.coef_[0].argsort()\n",
    "\n",
    "print('Smallest Coefs:\\n{}\\n'.format(feature_names[sorted_coef_index[:11]]))\n",
    "print('Largest Coefs: \\n{}'.format(feature_names[sorted_coef_index[:-12:-1]]))"
   ]
  },
  {
   "cell_type": "code",
   "execution_count": 56,
   "metadata": {},
   "outputs": [
    {
     "data": {
      "text/plain": [
       "['machine learning',\n",
       " 'artificial intelligence',\n",
       " 'data science',\n",
       " 'data scientist',\n",
       " 'computer science',\n",
       " 'data analysis',\n",
       " 'master degree',\n",
       " 'statistical analysis',\n",
       " 'deep learning',\n",
       " 'data analyst',\n",
       " 'software development']"
      ]
     },
     "execution_count": 56,
     "metadata": {},
     "output_type": "execute_result"
    }
   ],
   "source": [
    "second_list = list(feature_names[sorted_coef_index[:11]])\n",
    "second_list"
   ]
  },
  {
   "cell_type": "code",
   "execution_count": 57,
   "metadata": {},
   "outputs": [
    {
     "data": {
      "text/plain": [
       "['data',\n",
       " 'machine',\n",
       " 'intelligence',\n",
       " 'learning',\n",
       " 'python',\n",
       " 'science',\n",
       " 'ai',\n",
       " 'software',\n",
       " 'systems',\n",
       " 'sql',\n",
       " 'business',\n",
       " 're',\n",
       " 'machine learning',\n",
       " 'optimization',\n",
       " 'using',\n",
       " 'research',\n",
       " 'technology',\n",
       " 'description',\n",
       " 'analytics',\n",
       " 'marketing']"
      ]
     },
     "execution_count": 57,
     "metadata": {},
     "output_type": "execute_result"
    }
   ],
   "source": [
    "first_list"
   ]
  },
  {
   "cell_type": "code",
   "execution_count": 58,
   "metadata": {},
   "outputs": [],
   "source": [
    "df['Job Description'] = df['Job Description'].str.replace('-', ' ')"
   ]
  },
  {
   "cell_type": "code",
   "execution_count": 59,
   "metadata": {},
   "outputs": [],
   "source": [
    "keywords =['python', ' ai ', ' r ', 'sql', 'machine learning', 'data analytics', 'data visualization', 'tensorflow' \n",
    "          ,'artificial intelligence', 'master degree', 'bachelor degree', 'statistical analysis', 'deep learning',\n",
    "          'sklearn', 'pandas', 'aws', 'azure', ' matplotlib', 'cognos', 'numpy', 'etl', 'statistic', \n",
    "           'neural networks', 'spark', 'hadoop', 'kafka', 'dask', 'google cloud', 'ibm cloud', 'jupyter notebook',\n",
    "           'zeppelin', 'object oriented programing', 'copmuter science', 'time series', 'software development', \n",
    "           'Natural Language Processing', 'nlp', 'text mining', 'nltk', 'scala', ' c ', 'java'\n",
    "          \n",
    "          \n",
    "          ]"
   ]
  },
  {
   "cell_type": "code",
   "execution_count": 61,
   "metadata": {},
   "outputs": [
    {
     "data": {
      "text/plain": [
       "array([0, 1])"
      ]
     },
     "execution_count": 61,
     "metadata": {},
     "output_type": "execute_result"
    }
   ],
   "source": [
    "df['Group'].unique()"
   ]
  },
  {
   "cell_type": "code",
   "execution_count": 62,
   "metadata": {},
   "outputs": [],
   "source": [
    "df_ds = df[df['Group']==0]"
   ]
  },
  {
   "cell_type": "code",
   "execution_count": 63,
   "metadata": {},
   "outputs": [
    {
     "data": {
      "text/plain": [
       "2987"
      ]
     },
     "execution_count": 63,
     "metadata": {},
     "output_type": "execute_result"
    }
   ],
   "source": [
    "len(df_ds)"
   ]
  },
  {
   "cell_type": "code",
   "execution_count": 64,
   "metadata": {},
   "outputs": [
    {
     "data": {
      "text/plain": [
       "{'python': 2748,\n",
       " ' ai ': 2320,\n",
       " ' r ': 1625,\n",
       " 'sql': 2173,\n",
       " 'machine learning': 6437,\n",
       " 'data analytics': 875,\n",
       " 'data visualization': 552,\n",
       " 'tensorflow': 634,\n",
       " 'artificial intelligence': 944,\n",
       " 'master degree': 22,\n",
       " 'bachelor degree': 25,\n",
       " 'statistical analysis': 419,\n",
       " 'deep learning': 1313,\n",
       " 'sklearn': 29,\n",
       " 'pandas': 226,\n",
       " 'aws': 1285,\n",
       " 'azure': 545,\n",
       " ' matplotlib': 57,\n",
       " 'cognos': 20,\n",
       " 'numpy': 172,\n",
       " 'etl': 293,\n",
       " 'statistic': 5681,\n",
       " 'neural networks': 359,\n",
       " 'spark': 1225,\n",
       " 'hadoop': 648,\n",
       " 'kafka': 144,\n",
       " 'dask': 9,\n",
       " 'google cloud': 197,\n",
       " 'ibm cloud': 3,\n",
       " 'jupyter notebook': 31,\n",
       " 'zeppelin': 6,\n",
       " 'object oriented programing': 0,\n",
       " 'copmuter science': 0,\n",
       " 'time series': 234,\n",
       " 'software development': 577,\n",
       " 'Natural Language Processing': 0,\n",
       " 'nlp': 744,\n",
       " 'text mining': 97,\n",
       " 'nltk': 72,\n",
       " 'scala': 993,\n",
       " ' c ': 446,\n",
       " 'java': 985}"
      ]
     },
     "execution_count": 64,
     "metadata": {},
     "output_type": "execute_result"
    }
   ],
   "source": [
    "l = {}\n",
    "for item in keywords:\n",
    "    counts = df_ds['Job Description'].str.count(item).sum()\n",
    "    l[item]=counts\n",
    "l"
   ]
  },
  {
   "cell_type": "code",
   "execution_count": 65,
   "metadata": {},
   "outputs": [
    {
     "data": {
      "image/png": "[encoded data removed]",
      "text/plain": [
       "<Figure size 648x432 with 1 Axes>"
      ]
     },
     "metadata": {
      "needs_background": "light"
     },
     "output_type": "display_data"
    }
   ],
   "source": [
    "from wordcloud import WordCloud\n",
    "\n",
    "dictionary= l\n",
    "wordcloud = WordCloud(background_color='white',\n",
    "                      width=1500,\n",
    "                      height=1000\n",
    "                      ).generate_from_frequencies(dictionary)\n",
    "# use .generate(space_separated_string) - to generate cloud from text\n",
    "\n",
    "plt.figure(figsize=(9,6))\n",
    "plt.imshow(wordcloud)\n",
    "plt.axis('off')\n",
    "plt.show()"
   ]
  },
  {
   "cell_type": "code",
   "execution_count": 66,
   "metadata": {},
   "outputs": [
    {
     "name": "stderr",
     "output_type": "stream",
     "text": [
      "<ipython-input-66-306f6d76d423>:3: SettingWithCopyWarning: \n",
      "A value is trying to be set on a copy of a slice from a DataFrame.\n",
      "Try using .loc[row_indexer,col_indexer] = value instead\n",
      "\n",
      "See the caveats in the documentation: https://pandas.pydata.org/pandas-docs/stable/user_guide/indexing.html#returning-a-view-versus-a-copy\n",
      "  df_ds[item] = counts\n",
      "<ipython-input-66-306f6d76d423>:4: SettingWithCopyWarning: \n",
      "A value is trying to be set on a copy of a slice from a DataFrame.\n",
      "Try using .loc[row_indexer,col_indexer] = value instead\n",
      "\n",
      "See the caveats in the documentation: https://pandas.pydata.org/pandas-docs/stable/user_guide/indexing.html#returning-a-view-versus-a-copy\n",
      "  df_ds[item] = np.where(df_ds[item]==0, 0, 1)\n"
     ]
    },
    {
     "data": {
      "text/html": [
       "<div>\n",
       "<style scoped>\n",
       "    .dataframe tbody tr th:only-of-type {\n",
       "        vertical-align: middle;\n",
       "    }\n",
       "\n",
       "    .dataframe tbody tr th {\n",
       "        vertical-align: top;\n",
       "    }\n",
       "\n",
       "    .dataframe thead th {\n",
       "        text-align: right;\n",
       "    }\n",
       "</style>\n",
       "<table border=\"1\" class=\"dataframe\">\n",
       "  <thead>\n",
       "    <tr style=\"text-align: right;\">\n",
       "      <th></th>\n",
       "      <th>Job Title</th>\n",
       "      <th>Company Name</th>\n",
       "      <th>Location</th>\n",
       "      <th>job URL</th>\n",
       "      <th>Job Description</th>\n",
       "      <th>Group</th>\n",
       "      <th>python</th>\n",
       "      <th>ai</th>\n",
       "      <th>r</th>\n",
       "      <th>sql</th>\n",
       "      <th>...</th>\n",
       "      <th>copmuter science</th>\n",
       "      <th>time series</th>\n",
       "      <th>software development</th>\n",
       "      <th>Natural Language Processing</th>\n",
       "      <th>nlp</th>\n",
       "      <th>text mining</th>\n",
       "      <th>nltk</th>\n",
       "      <th>scala</th>\n",
       "      <th>c</th>\n",
       "      <th>java</th>\n",
       "    </tr>\n",
       "  </thead>\n",
       "  <tbody>\n",
       "    <tr>\n",
       "      <th>0</th>\n",
       "      <td>Data Scientist</td>\n",
       "      <td>MSi Corp (Bell Canada)</td>\n",
       "      <td>Toronto, ON</td>\n",
       "      <td>http://www.indeed.ca/pagead/clk?mo=r&amp;ad=-6NYlb...</td>\n",
       "      <td>telecom client looking junior intermediate lev...</td>\n",
       "      <td>0</td>\n",
       "      <td>1</td>\n",
       "      <td>0</td>\n",
       "      <td>1</td>\n",
       "      <td>1</td>\n",
       "      <td>...</td>\n",
       "      <td>0</td>\n",
       "      <td>0</td>\n",
       "      <td>0</td>\n",
       "      <td>0</td>\n",
       "      <td>0</td>\n",
       "      <td>0</td>\n",
       "      <td>0</td>\n",
       "      <td>0</td>\n",
       "      <td>0</td>\n",
       "      <td>0</td>\n",
       "    </tr>\n",
       "    <tr>\n",
       "      <th>1</th>\n",
       "      <td>Data Scientist</td>\n",
       "      <td>Modern Cleaning Concept</td>\n",
       "      <td>Lasalle, QC</td>\n",
       "      <td>http://www.indeed.ca/pagead/clk?mo=r&amp;ad=-6NYlb...</td>\n",
       "      <td>job description – data scientistwe looking car...</td>\n",
       "      <td>0</td>\n",
       "      <td>0</td>\n",
       "      <td>0</td>\n",
       "      <td>0</td>\n",
       "      <td>0</td>\n",
       "      <td>...</td>\n",
       "      <td>0</td>\n",
       "      <td>0</td>\n",
       "      <td>0</td>\n",
       "      <td>0</td>\n",
       "      <td>0</td>\n",
       "      <td>0</td>\n",
       "      <td>0</td>\n",
       "      <td>0</td>\n",
       "      <td>0</td>\n",
       "      <td>0</td>\n",
       "    </tr>\n",
       "    <tr>\n",
       "      <th>2</th>\n",
       "      <td>Data Scientist</td>\n",
       "      <td>Slice Insurance Technologies Inc.</td>\n",
       "      <td>Ottawa, ON</td>\n",
       "      <td>http://www.indeed.ca/pagead/clk?mo=r&amp;ad=-6NYlb...</td>\n",
       "      <td>slice labs ( slice ) ’ building team innovator...</td>\n",
       "      <td>0</td>\n",
       "      <td>1</td>\n",
       "      <td>0</td>\n",
       "      <td>0</td>\n",
       "      <td>1</td>\n",
       "      <td>...</td>\n",
       "      <td>0</td>\n",
       "      <td>0</td>\n",
       "      <td>0</td>\n",
       "      <td>0</td>\n",
       "      <td>1</td>\n",
       "      <td>0</td>\n",
       "      <td>1</td>\n",
       "      <td>0</td>\n",
       "      <td>0</td>\n",
       "      <td>0</td>\n",
       "    </tr>\n",
       "  </tbody>\n",
       "</table>\n",
       "<p>3 rows × 48 columns</p>\n",
       "</div>"
      ],
      "text/plain": [
       "        Job Title                       Company Name     Location  \\\n",
       "0  Data Scientist             MSi Corp (Bell Canada)  Toronto, ON   \n",
       "1  Data Scientist            Modern Cleaning Concept  Lasalle, QC   \n",
       "2  Data Scientist  Slice Insurance Technologies Inc.   Ottawa, ON   \n",
       "\n",
       "                                             job URL  \\\n",
       "0  http://www.indeed.ca/pagead/clk?mo=r&ad=-6NYlb...   \n",
       "1  http://www.indeed.ca/pagead/clk?mo=r&ad=-6NYlb...   \n",
       "2  http://www.indeed.ca/pagead/clk?mo=r&ad=-6NYlb...   \n",
       "\n",
       "                                     Job Description  Group  python   ai   \\\n",
       "0  telecom client looking junior intermediate lev...      0       1     0   \n",
       "1  job description – data scientistwe looking car...      0       0     0   \n",
       "2  slice labs ( slice ) ’ building team innovator...      0       1     0   \n",
       "\n",
       "    r   sql  ...  copmuter science  time series  software development  \\\n",
       "0    1    1  ...                 0            0                     0   \n",
       "1    0    0  ...                 0            0                     0   \n",
       "2    0    1  ...                 0            0                     0   \n",
       "\n",
       "   Natural Language Processing  nlp  text mining  nltk  scala   c   java  \n",
       "0                            0    0            0     0      0    0     0  \n",
       "1                            0    0            0     0      0    0     0  \n",
       "2                            0    1            0     1      0    0     0  \n",
       "\n",
       "[3 rows x 48 columns]"
      ]
     },
     "execution_count": 66,
     "metadata": {},
     "output_type": "execute_result"
    }
   ],
   "source": [
    "for item in keywords:\n",
    "    counts = df_ds['Job Description'].str.count(item)\n",
    "    df_ds[item] = counts\n",
    "    df_ds[item] = np.where(df_ds[item]==0, 0, 1)\n",
    "df_ds.head(3)"
   ]
  },
  {
   "cell_type": "code",
   "execution_count": 67,
   "metadata": {},
   "outputs": [
    {
     "data": {
      "text/plain": [
       "{'machine learning': 6437,\n",
       " 'statistic': 5681,\n",
       " 'python': 2748,\n",
       " ' ai ': 2320,\n",
       " 'sql': 2173,\n",
       " ' r ': 1625,\n",
       " 'deep learning': 1313,\n",
       " 'aws': 1285,\n",
       " 'spark': 1225,\n",
       " 'scala': 993,\n",
       " 'java': 985,\n",
       " 'artificial intelligence': 944,\n",
       " 'data analytics': 875,\n",
       " 'nlp': 744,\n",
       " 'hadoop': 648}"
      ]
     },
     "execution_count": 67,
     "metadata": {},
     "output_type": "execute_result"
    }
   ],
   "source": [
    "tmp = sorted(l.items(), key=lambda x: x[1], reverse=True)\n",
    "l_sorted = {}\n",
    "for i in tmp[:15]:\n",
    "    l_sorted[i[0]]= i[1]\n",
    "l_sorted"
   ]
  },
  {
   "cell_type": "code",
   "execution_count": 68,
   "metadata": {},
   "outputs": [
    {
     "data": {
      "image/png": "[encoded data removed]",
      "text/plain": [
       "<Figure size 720x576 with 1 Axes>"
      ]
     },
     "metadata": {
      "needs_background": "light"
     },
     "output_type": "display_data"
    }
   ],
   "source": [
    "# Generating a bar chart for number of job postings by city:\n",
    "\n",
    "\n",
    "\n",
    "\n",
    "tmp = sorted(l.items(), key=lambda x: x[1], reverse=True)\n",
    "l_sorted = {}\n",
    "for i in tmp[:15]:\n",
    "    l_sorted[i[0]]= i[1]\n",
    "\n",
    "\n",
    "plt.figure(figsize=(10,8))\n",
    "xvals = l_sorted.keys()\n",
    "yvals = list(l_sorted.values())\n",
    "plt.bar(xvals, yvals, color='#006fb9')\n",
    "plt.xticks(rotation=90)\n",
    "#plt.margins(0.2)\n",
    "\n",
    "plt.subplots_adjust(bottom=0.3, left=0.2) # To make sure the x axis labels are visible\n",
    "plt.title('Data Science Skills by Number of Requests')\n",
    "plt.xlabel('Top 15 Data Science Skills Required by Employers')\n",
    "plt.ylabel('Number of Appearances')\n",
    "\n",
    "#Having the y axis formatted as thousand separated in case there are more than a thousand jobs\n",
    "ax = plt.gca()\n",
    "ax.get_yaxis().set_major_formatter(plt.FuncFormatter(lambda x, loc: \"{:,}\".format(int(x))))\n",
    "\n",
    "ax.spines['top'].set_visible(False) # Removing the top border\n",
    "ax.spines['right'].set_visible(False) # Removing the righ border\n",
    "\n",
    "for i, v in enumerate(yvals): # Showing the data values on top of the bars\n",
    "    ax.text(i-0.37, v+80, str(v)) # i and v show the position of the data labels\n",
    "\n",
    "plt.show()"
   ]
  },
  {
   "cell_type": "code",
   "execution_count": 69,
   "metadata": {
    "scrolled": false
   },
   "outputs": [
    {
     "data": {
      "text/html": [
       "<div>\n",
       "<style scoped>\n",
       "    .dataframe tbody tr th:only-of-type {\n",
       "        vertical-align: middle;\n",
       "    }\n",
       "\n",
       "    .dataframe tbody tr th {\n",
       "        vertical-align: top;\n",
       "    }\n",
       "\n",
       "    .dataframe thead th {\n",
       "        text-align: right;\n",
       "    }\n",
       "</style>\n",
       "<table border=\"1\" class=\"dataframe\">\n",
       "  <thead>\n",
       "    <tr style=\"text-align: right;\">\n",
       "      <th></th>\n",
       "      <th>Job Title</th>\n",
       "      <th>Company Name</th>\n",
       "      <th>Location</th>\n",
       "      <th>job URL</th>\n",
       "      <th>Job Description</th>\n",
       "      <th>Group</th>\n",
       "      <th>python</th>\n",
       "      <th>ai</th>\n",
       "      <th>r</th>\n",
       "      <th>sql</th>\n",
       "      <th>...</th>\n",
       "      <th>copmuter science</th>\n",
       "      <th>time series</th>\n",
       "      <th>software development</th>\n",
       "      <th>Natural Language Processing</th>\n",
       "      <th>nlp</th>\n",
       "      <th>text mining</th>\n",
       "      <th>nltk</th>\n",
       "      <th>scala</th>\n",
       "      <th>c</th>\n",
       "      <th>java</th>\n",
       "    </tr>\n",
       "  </thead>\n",
       "  <tbody>\n",
       "    <tr>\n",
       "      <th>0</th>\n",
       "      <td>Data Scientist</td>\n",
       "      <td>MSi Corp (Bell Canada)</td>\n",
       "      <td>Toronto, ON</td>\n",
       "      <td>http://www.indeed.ca/pagead/clk?mo=r&amp;ad=-6NYlb...</td>\n",
       "      <td>telecom client looking junior intermediate lev...</td>\n",
       "      <td>0</td>\n",
       "      <td>1</td>\n",
       "      <td>0</td>\n",
       "      <td>1</td>\n",
       "      <td>1</td>\n",
       "      <td>...</td>\n",
       "      <td>0</td>\n",
       "      <td>0</td>\n",
       "      <td>0</td>\n",
       "      <td>0</td>\n",
       "      <td>0</td>\n",
       "      <td>0</td>\n",
       "      <td>0</td>\n",
       "      <td>0</td>\n",
       "      <td>0</td>\n",
       "      <td>0</td>\n",
       "    </tr>\n",
       "    <tr>\n",
       "      <th>1</th>\n",
       "      <td>Data Scientist</td>\n",
       "      <td>Modern Cleaning Concept</td>\n",
       "      <td>Lasalle, QC</td>\n",
       "      <td>http://www.indeed.ca/pagead/clk?mo=r&amp;ad=-6NYlb...</td>\n",
       "      <td>job description – data scientistwe looking car...</td>\n",
       "      <td>0</td>\n",
       "      <td>0</td>\n",
       "      <td>0</td>\n",
       "      <td>0</td>\n",
       "      <td>0</td>\n",
       "      <td>...</td>\n",
       "      <td>0</td>\n",
       "      <td>0</td>\n",
       "      <td>0</td>\n",
       "      <td>0</td>\n",
       "      <td>0</td>\n",
       "      <td>0</td>\n",
       "      <td>0</td>\n",
       "      <td>0</td>\n",
       "      <td>0</td>\n",
       "      <td>0</td>\n",
       "    </tr>\n",
       "    <tr>\n",
       "      <th>2</th>\n",
       "      <td>Data Scientist</td>\n",
       "      <td>Slice Insurance Technologies Inc.</td>\n",
       "      <td>Ottawa, ON</td>\n",
       "      <td>http://www.indeed.ca/pagead/clk?mo=r&amp;ad=-6NYlb...</td>\n",
       "      <td>slice labs ( slice ) ’ building team innovator...</td>\n",
       "      <td>0</td>\n",
       "      <td>1</td>\n",
       "      <td>0</td>\n",
       "      <td>0</td>\n",
       "      <td>1</td>\n",
       "      <td>...</td>\n",
       "      <td>0</td>\n",
       "      <td>0</td>\n",
       "      <td>0</td>\n",
       "      <td>0</td>\n",
       "      <td>1</td>\n",
       "      <td>0</td>\n",
       "      <td>1</td>\n",
       "      <td>0</td>\n",
       "      <td>0</td>\n",
       "      <td>0</td>\n",
       "    </tr>\n",
       "  </tbody>\n",
       "</table>\n",
       "<p>3 rows × 48 columns</p>\n",
       "</div>"
      ],
      "text/plain": [
       "        Job Title                       Company Name     Location  \\\n",
       "0  Data Scientist             MSi Corp (Bell Canada)  Toronto, ON   \n",
       "1  Data Scientist            Modern Cleaning Concept  Lasalle, QC   \n",
       "2  Data Scientist  Slice Insurance Technologies Inc.   Ottawa, ON   \n",
       "\n",
       "                                             job URL  \\\n",
       "0  http://www.indeed.ca/pagead/clk?mo=r&ad=-6NYlb...   \n",
       "1  http://www.indeed.ca/pagead/clk?mo=r&ad=-6NYlb...   \n",
       "2  http://www.indeed.ca/pagead/clk?mo=r&ad=-6NYlb...   \n",
       "\n",
       "                                     Job Description  Group  python   ai   \\\n",
       "0  telecom client looking junior intermediate lev...      0       1     0   \n",
       "1  job description – data scientistwe looking car...      0       0     0   \n",
       "2  slice labs ( slice ) ’ building team innovator...      0       1     0   \n",
       "\n",
       "    r   sql  ...  copmuter science  time series  software development  \\\n",
       "0    1    1  ...                 0            0                     0   \n",
       "1    0    0  ...                 0            0                     0   \n",
       "2    0    1  ...                 0            0                     0   \n",
       "\n",
       "   Natural Language Processing  nlp  text mining  nltk  scala   c   java  \n",
       "0                            0    0            0     0      0    0     0  \n",
       "1                            0    0            0     0      0    0     0  \n",
       "2                            0    1            0     1      0    0     0  \n",
       "\n",
       "[3 rows x 48 columns]"
      ]
     },
     "execution_count": 69,
     "metadata": {},
     "output_type": "execute_result"
    }
   ],
   "source": [
    "df_ds.head(3)"
   ]
  },
  {
   "cell_type": "code",
   "execution_count": 70,
   "metadata": {},
   "outputs": [
    {
     "data": {
      "text/plain": [
       "array(['Toronto, ON', 'Lasalle, QC', 'Ottawa, ON', 'Waterloo, ON',\n",
       "       'Moncton, NB', 'London, ON', 'Laval, QC', 'Montréal, QC',\n",
       "       'Markham, ON', 'Calgary, AB', 'Saskatoon, SK', 'Dartmouth, NS',\n",
       "       'Mountain View, AB', nan, 'Saint-Laurent, QC', 'Guelph, ON',\n",
       "       'Vancouver, BC', 'Edmonton, AB', 'Surrey, BC', 'Park, MB',\n",
       "       'Ontario', 'Dorval, QC', 'Victoria, BC', 'Mississauga, ON',\n",
       "       'Welland, ON', 'Oakville, ON', 'Burnaby, BC', 'Quebec City, QC',\n",
       "       'Brampton, ON', 'Kanata, ON', 'Fort McMurray, AB', 'Windsor, ON',\n",
       "       'Canada', 'Etobicoke, ON', 'Kitchener, ON', 'Whitby, ON',\n",
       "       'Mirabel, QC', 'Halton, ON', 'Winnipeg, MB', \"St. John's, NL\",\n",
       "       'Lethbridge, AB', 'Kirkland, QC', 'Sherbrooke, QC',\n",
       "       'Charlottetown, PE', 'Regina, SK', 'Engineer, BC', 'Work at Home',\n",
       "       'Vernon, BC', 'Concord, ON', 'Richmond Hill, ON', 'North York, ON',\n",
       "       'Remote', 'Kelowna, BC', 'Halifax, NS', 'Richmond, BC',\n",
       "       'Hamilton, ON', 'Gilbert, AZ 85297', 'Phoenix, AZ 85054',\n",
       "       'Phoenix, AZ', 'Chandler, AZ', 'Phoenix, AZ 85004',\n",
       "       'Phoenix, AZ 85012', 'Scottsdale, AZ', 'Phoenix, AZ 85085',\n",
       "       'Tempe, AZ 85281', 'Tempe, AZ 85282', 'Phoenix, AZ 85070',\n",
       "       'Phoenix, AZ 85021', 'Phoenix, AZ 85027', 'Tempe, AZ 85284',\n",
       "       'Goodyear, AZ 85395', 'Tempe, AZ', 'Phoenix, AZ 85014',\n",
       "       'Scottsdale, AZ 85251', 'Phoenix, AZ 85040', 'Phoenix, AZ 85016',\n",
       "       'United States', 'Houston, TX', 'Houston, TX 77002',\n",
       "       'Houston, TX 77084', 'Houston, TX 77041', 'Houston, TX 77040',\n",
       "       'La Porte, TX 77571', 'Humble, TX 77346', 'Houston, TX 77056',\n",
       "       'Webster, TX 77598', 'Houston, TX 77019', 'Houston, TX 77030',\n",
       "       'Houston, TX 77077', 'Houston, TX 77032', 'Sugar Land, TX',\n",
       "       'Spring, TX', 'Spring, TX 77389', 'Latham, NY 12110',\n",
       "       'New York, NY', 'New York, NY 10001', 'Orangeburg, NY',\n",
       "       'New York, NY 10007', 'New York, NY 10002', 'New York, NY 10004',\n",
       "       'Syracuse, NY 13204', 'New York, NY 10011', 'Buffalo, NY 14216',\n",
       "       'New York, NY 10154', 'New York, NY 10005', 'New York, NY 10019',\n",
       "       'New York, NY 10017', 'New York, NY 10104',\n",
       "       'Long Island City, NY 11101', 'New York, NY 10016',\n",
       "       'Painted Post, NY 14870', 'New York, NY 10170',\n",
       "       'New York, NY 10018', 'New York, NY 10003', 'New York, NY 10020',\n",
       "       'Brewster, NY', 'New York, NY 10013', 'New York, NY 10022',\n",
       "       'Armonk, NY 10504', 'New York, NY 10010', 'New York, NY 10021',\n",
       "       'New Berlin, NY 13411', 'New York, NY 10036', 'New York, NY 10119',\n",
       "       'Albany, NY', 'New York, NY 10014', 'Albany, NY 12206',\n",
       "       'Boston, NY', 'Valhalla, NY 10595', 'White Plains, NY',\n",
       "       'Brooklyn, NY 11201', 'Manhattan, NY 10018',\n",
       "       'Port Washington, NY 11050', 'Yonkers, NY', 'Purchase, NY',\n",
       "       'New York, NY 10038', 'New Hartford, NY 13413', 'New York State',\n",
       "       'Brooklyn, NY', 'Tarrytown, NY', 'Melville, NY',\n",
       "       'Yonkers, NY 10467', 'New York, NY 10176', 'Rochester, NY',\n",
       "       'New York, NY 10179', 'Manhattan, NY', 'Liverpool, NY 13088',\n",
       "       'Syracuse, NY', 'Mineola, NY 11501', 'White Plains, NY 10601',\n",
       "       'New York, NY 10006', 'Harrison, NY', 'Cold Spring Harbor, NY',\n",
       "       'Brooklyn, NY 11220', 'Manhasset, NY 11030', 'New York, NY 10012',\n",
       "       'Buffalo, NY', 'New York, NY 10172', 'New York, NY 10281',\n",
       "       'Harrison, NY 10528', 'Troy, NY 12180', 'Brooklyn, NY 11238',\n",
       "       'Niskayuna, NY 12309', 'Upton, NY 11973', 'New York, NY 10112',\n",
       "       'Poughkeepsie, NY 12601', 'New York, NY 10261', 'Boston, MA 02199',\n",
       "       'Boston, MA 02111', 'Cambridge, MA', 'Boston, MA 02101',\n",
       "       'Boston, MA', 'Boston, MA 02115', 'Hanscom AFB, MA',\n",
       "       'Boston, MA 02210', 'Cambridge, MA 02139', 'Natick, MA 01760',\n",
       "       'Medford, MA', 'Boston, MA 02116', 'Cambridge, MA 02142',\n",
       "       'Wellesley, MA 02481', 'Boston, MA 02114', 'Boston, MA 02110',\n",
       "       'Arlington, MA', 'Framingham, MA 01701', 'Boston, MA 02109',\n",
       "       'Boston, MA 02298', 'Boston, MA 02108', 'Somerville, MA 02144',\n",
       "       'Woburn, MA 01801', 'Waltham, MA', 'Waltham, MA 02451',\n",
       "       'Chelmsford, MA 01824', 'Cambridge, MA 02141', 'Andover, MA',\n",
       "       'Ipswich, MA 01938', 'Boston, MA 02215', 'Bedford, MA',\n",
       "       'Cambridge, MA 02140', 'North Reading, MA', 'Somerville, MA 02145',\n",
       "       'North Reading, MA 01864', 'Wilmington, MA 01887',\n",
       "       'Cambridge, MA 02138', 'South Weymouth, MA 02190',\n",
       "       'Newton, MA 02458', 'Boston, MA 02118', 'Bedford, MA 01730',\n",
       "       'Quincy, MA 02169', 'Peabody, MA 01960', 'Somerville, MA',\n",
       "       'Charlestown, MA', 'Andover, MA 01810', 'Southborough, MA 01772',\n",
       "       'Lexington, MA', 'Burlington, MA 01803', 'Newton, MA 02493',\n",
       "       'Lexington, MA 02421', 'Watertown, MA 02472', 'Tewksbury, MA',\n",
       "       'Norwood, MA 02062', 'Woburn, MA', 'Seattle, WA',\n",
       "       'Redmond, WA 98052', 'Bellevue, WA 98004', 'Seattle, WA 98101',\n",
       "       'Bellevue, WA', 'Redmond, WA', 'Seattle, WA 98119',\n",
       "       'Seattle, WA 98103', 'Seattle, WA 98104', 'Seattle, WA 98109',\n",
       "       'Seattle, WA 98121', 'Bothell, WA 98011', 'Bellevue, WA 98007',\n",
       "       'Seattle, WA 98107', 'Kirkland, WA', 'Seattle, WA 98146',\n",
       "       'Kent, WA 98032', 'Bellevue, WA 98009', 'Seattle, WA 98194',\n",
       "       'Bothell, WA', 'Seattle, WA 98134', 'Bellevue, WA 98006',\n",
       "       'San Francisco, CA', 'Burlingame, CA', 'Walnut Creek, CA',\n",
       "       'San Francisco, CA 94102', 'San Francisco, CA 94107',\n",
       "       'San Francisco, CA 94105', 'San Francisco, CA 94143',\n",
       "       'San Francisco, CA 94111', 'San Francisco, CA 94103',\n",
       "       'San Francisco, CA 94104', 'San Francisco, CA 94123',\n",
       "       'San Francisco Bay Area, CA', 'San Francisco, CA 94110',\n",
       "       'Redwood City, CA 94065', 'San Francisco, CA 94108',\n",
       "       'Oakland, CA 94612', 'San Francisco, CA 94117',\n",
       "       'Burlingame, CA 94010', 'San Francisco, CA 94158',\n",
       "       'Berkeley, CA 94710', 'Oakland, CA',\n",
       "       'South San Francisco, CA 94080', 'San Mateo, CA',\n",
       "       'San Francisco, CA 94124', 'Emeryville, CA',\n",
       "       'San Carlos, CA 94070', 'Oakland, CA 94607',\n",
       "       'San Francisco, CA 94129', 'Redwood City, CA',\n",
       "       'San Francisco, CA 94133', 'Hayward, CA 94545',\n",
       "       'Walnut Creek, CA 94598', 'San Bruno, CA 94066',\n",
       "       'San Mateo, CA 94401', 'San Carlos, CA', 'San Rafael, CA',\n",
       "       'Foster City, CA 94404', 'San Mateo, CA 94404',\n",
       "       'Alameda, CA 94501', 'Walnut Creek, CA 94596',\n",
       "       'San Francisco, CA 94080', 'Redwood City, CA 94063',\n",
       "       'South San Francisco, CA', 'Berkeley, CA 94704', 'Foster City, CA',\n",
       "       'Emeryville, CA 94608', 'Berkeley, CA', 'San Francisco, CA 94704',\n",
       "       'Berkeley, CA 94720', 'Albany, CA', 'Brisbane, CA 94005',\n",
       "       'Novato, CA 94949', 'Alameda, CA 94502', 'Redwood City, CA 94062',\n",
       "       'San Mateo, CA 94402', 'Fremont, CA 94555', 'Austin, TX 78702',\n",
       "       'Austin, TX', 'Austin, TX 78701', 'Austin, TX 78703',\n",
       "       'Austin, TX 78744', 'Austin, TX 78759', 'Austin, TX 78729',\n",
       "       'Austin, TX 78705', 'Austin, TX 73344', 'Austin, TX 78746',\n",
       "       'Austin, TX 78730', 'Austin, TX 78754', 'Austin, TX 78738',\n",
       "       'Austin, TX 78758', 'Austin, TX 78751', 'Austin, TX 78752',\n",
       "       'Austin, TX 78712', 'Austin, TX 78704', 'Round Rock, TX 78682',\n",
       "       'Austin, TX 78731', 'Austin, TX 78727', 'Austin, TX 78753',\n",
       "       'Washington State', 'Richland, WA 99354', 'Renton, WA',\n",
       "       'Seattle, WA 98102', 'Renton, WA 98057', 'Bellingham, WA 98226',\n",
       "       'Renton, WA 98056', 'Bellevue, WA 98005', 'Tacoma, WA 98402',\n",
       "       'Malvern, PA', 'Philadelphia, PA', 'Philadelphia, PA 19104',\n",
       "       'Philadelphia, PA 19146', 'Camden, NJ 08103',\n",
       "       'Plymouth Meeting, PA 19462', 'Wayne, PA 19087',\n",
       "       'Philadelphia, PA 19107', 'Conshohocken, PA 19428', 'Wawa, PA',\n",
       "       'West Point, PA', 'Philadelphia, PA 19112',\n",
       "       'King of Prussia, PA 19406', 'Horsham, PA 19044',\n",
       "       'Philadelphia, PA 19130', 'Wilmington, DE 19810',\n",
       "       'Wilmington, DE 19801', 'Philadelphia, PA 19103',\n",
       "       'Blue Bell, PA 19422', 'Horsham, PA', 'Malvern, PA 19355',\n",
       "       'West Conshohocken, PA', 'Berwyn, PA 19312', 'Wilmington, DE',\n",
       "       'Collegeville, PA 19426', 'Philadelphia, PA 19102',\n",
       "       'Cherry Hill, NJ', 'Camden, NJ', 'Moorestown, NJ 08057',\n",
       "       'Langhorne, PA', 'Spring House, PA', 'Fort Worth, TX 76134',\n",
       "       'San Antonio, TX', 'Fort Worth, TX', 'Dallas, TX 75221',\n",
       "       'Abilene, TX', 'Dallas, TX', 'Plano, TX', 'Allen, TX',\n",
       "       'Fort Worth, TX 76108', 'Texas', 'Arlington, TX 76013',\n",
       "       'Dallas, TX 75201', 'Fort Worth, TX 76137', 'Plano, TX 75024',\n",
       "       'Irving, TX 75039', 'Italy, TX', 'Irving, TX 75038',\n",
       "       'Sugar Land, TX 77478', 'Pasadena, TX 77504',\n",
       "       'Galveston, TX 77550', 'San Antonio, TX 78259', 'Bexar, TX',\n",
       "       'Houston, TX 77026', 'Coppell, TX 75019', 'Richardson, TX',\n",
       "       'Irving, TX 75063', 'Fort Worth, TX 76102', 'Dallas, TX 75215',\n",
       "       'Westlake, TX 76262', 'Irving, TX', 'Grand Prairie, TX',\n",
       "       'Houston, TX 77075', 'Marshall, TX', 'Dallas, TX 75234',\n",
       "       'Austin, TX 78716', 'Grand Prairie, TX 75051', 'Frisco, TX',\n",
       "       'Austin, TX 78735', 'San Antonio, TX 78205',\n",
       "       'League City, TX 77573', 'Plano, TX 75023',\n",
       "       'San Antonio, TX 78221', 'San Antonio, TX 78288',\n",
       "       'Richardson, TX 75082', 'College Station, TX 77845',\n",
       "       'Huntsville, TX 77340', 'Dallas, TX 75240', 'Plano, TX 75075',\n",
       "       'Bedford, TX', 'Belton, TX 76513', 'Dallas, TX 75390',\n",
       "       'San Antonio, TX 78245', 'Austin, TX 78717', 'Irving, TX 75062',\n",
       "       'Westlake, TX', 'Addison, TX', 'Dallas, TX 75219',\n",
       "       'Dallas, TX 75231', 'Fort Worth, TX 76262',\n",
       "       'San Antonio, TX 78208', 'Fort Worth, TX 76179',\n",
       "       'Addison, TX 75001', 'Burbank, CA', 'Los Angeles, CA 90079',\n",
       "       'Los Angeles, CA 91403', 'Los Angeles, CA', 'Glendale, CA 91201',\n",
       "       'Pasadena, CA 91109', 'Los Angeles, CA 90010', 'Glendale, CA',\n",
       "       'Pasadena, CA', 'Burbank, CA 91505', 'Beverly Hills, CA',\n",
       "       'Los Angeles, CA 90014', 'Los Angeles, CA 90013',\n",
       "       'Los Angeles, CA 90017', 'Manhattan Beach, CA',\n",
       "       'Santa Monica, CA 90401', 'Woodland Hills, CA 91367',\n",
       "       'Culver City, CA', 'Playa Vista, CA', 'Los Angeles, CA 90067',\n",
       "       'Santa Monica, CA 90405', 'Santa Monica, CA', 'Long Beach, CA',\n",
       "       'Santa Fe Springs, CA 90670', 'Marina del Rey, CA',\n",
       "       'Los Angeles, CA 90036', 'Universal City, CA',\n",
       "       'Los Angeles, CA 90019', 'Los Angeles, CA 90094',\n",
       "       'Rosemead, CA 91771', 'Woodland Hills, CA', 'El Segundo, CA 90245',\n",
       "       'Los Angeles, CA 90015', 'Santa Monica, CA 90404', 'Anaheim, CA',\n",
       "       'Los Angeles, CA 90024', 'Brea, CA 92821', 'West Hollywood, CA',\n",
       "       'Los Angeles, CA 91356', 'Torrance, CA 90503',\n",
       "       'Los Angeles, CA 90049', 'Los Angeles, CA 90071',\n",
       "       'Los Angeles, CA 90048', 'Cypress, CA 90630',\n",
       "       'Northridge, CA 91325', 'San Dimas, CA 91773'], dtype=object)"
      ]
     },
     "execution_count": 70,
     "metadata": {},
     "output_type": "execute_result"
    }
   ],
   "source": [
    "df_ds['Location'].unique()"
   ]
  },
  {
   "cell_type": "code",
   "execution_count": 71,
   "metadata": {},
   "outputs": [
    {
     "data": {
      "text/html": [
       "<div>\n",
       "<style scoped>\n",
       "    .dataframe tbody tr th:only-of-type {\n",
       "        vertical-align: middle;\n",
       "    }\n",
       "\n",
       "    .dataframe tbody tr th {\n",
       "        vertical-align: top;\n",
       "    }\n",
       "\n",
       "    .dataframe thead th {\n",
       "        text-align: right;\n",
       "    }\n",
       "</style>\n",
       "<table border=\"1\" class=\"dataframe\">\n",
       "  <thead>\n",
       "    <tr style=\"text-align: right;\">\n",
       "      <th></th>\n",
       "      <th>Jobs_Count</th>\n",
       "    </tr>\n",
       "    <tr>\n",
       "      <th>Location</th>\n",
       "      <th></th>\n",
       "    </tr>\n",
       "  </thead>\n",
       "  <tbody>\n",
       "    <tr>\n",
       "      <th>Toronto, ON</th>\n",
       "      <td>231</td>\n",
       "    </tr>\n",
       "    <tr>\n",
       "      <th>Seattle, WA</th>\n",
       "      <td>219</td>\n",
       "    </tr>\n",
       "    <tr>\n",
       "      <th>New York, NY</th>\n",
       "      <td>186</td>\n",
       "    </tr>\n",
       "    <tr>\n",
       "      <th>San Francisco, CA</th>\n",
       "      <td>141</td>\n",
       "    </tr>\n",
       "    <tr>\n",
       "      <th>Montréal, QC</th>\n",
       "      <td>103</td>\n",
       "    </tr>\n",
       "    <tr>\n",
       "      <th>Austin, TX</th>\n",
       "      <td>74</td>\n",
       "    </tr>\n",
       "    <tr>\n",
       "      <th>Boston, MA</th>\n",
       "      <td>67</td>\n",
       "    </tr>\n",
       "    <tr>\n",
       "      <th>Ottawa, ON</th>\n",
       "      <td>59</td>\n",
       "    </tr>\n",
       "    <tr>\n",
       "      <th>Cambridge, MA</th>\n",
       "      <td>55</td>\n",
       "    </tr>\n",
       "    <tr>\n",
       "      <th>Vancouver, BC</th>\n",
       "      <td>54</td>\n",
       "    </tr>\n",
       "    <tr>\n",
       "      <th>Redmond, WA</th>\n",
       "      <td>48</td>\n",
       "    </tr>\n",
       "    <tr>\n",
       "      <th>San Francisco, CA 94103</th>\n",
       "      <td>43</td>\n",
       "    </tr>\n",
       "    <tr>\n",
       "      <th>Seattle, WA 98101</th>\n",
       "      <td>43</td>\n",
       "    </tr>\n",
       "    <tr>\n",
       "      <th>Los Angeles, CA</th>\n",
       "      <td>37</td>\n",
       "    </tr>\n",
       "    <tr>\n",
       "      <th>Houston, TX</th>\n",
       "      <td>36</td>\n",
       "    </tr>\n",
       "    <tr>\n",
       "      <th>Saint-Laurent, QC</th>\n",
       "      <td>34</td>\n",
       "    </tr>\n",
       "    <tr>\n",
       "      <th>Lasalle, QC</th>\n",
       "      <td>34</td>\n",
       "    </tr>\n",
       "    <tr>\n",
       "      <th>San Francisco, CA 94105</th>\n",
       "      <td>31</td>\n",
       "    </tr>\n",
       "    <tr>\n",
       "      <th>Calgary, AB</th>\n",
       "      <td>26</td>\n",
       "    </tr>\n",
       "    <tr>\n",
       "      <th>Seattle, WA 98104</th>\n",
       "      <td>26</td>\n",
       "    </tr>\n",
       "  </tbody>\n",
       "</table>\n",
       "</div>"
      ],
      "text/plain": [
       "                         Jobs_Count\n",
       "Location                           \n",
       "Toronto, ON                     231\n",
       "Seattle, WA                     219\n",
       "New York, NY                    186\n",
       "San Francisco, CA               141\n",
       "Montréal, QC                    103\n",
       "Austin, TX                       74\n",
       "Boston, MA                       67\n",
       "Ottawa, ON                       59\n",
       "Cambridge, MA                    55\n",
       "Vancouver, BC                    54\n",
       "Redmond, WA                      48\n",
       "San Francisco, CA 94103          43\n",
       "Seattle, WA 98101                43\n",
       "Los Angeles, CA                  37\n",
       "Houston, TX                      36\n",
       "Saint-Laurent, QC                34\n",
       "Lasalle, QC                      34\n",
       "San Francisco, CA 94105          31\n",
       "Calgary, AB                      26\n",
       "Seattle, WA 98104                26"
      ]
     },
     "execution_count": 71,
     "metadata": {},
     "output_type": "execute_result"
    }
   ],
   "source": [
    "tmp = df_ds.groupby('Location')['Location'].count().to_frame()\n",
    "tmp.columns=['Jobs_Count']\n",
    "tmp.sort_values(by='Jobs_Count', ascending=False)[:20]"
   ]
  },
  {
   "cell_type": "code",
   "execution_count": 74,
   "metadata": {},
   "outputs": [
    {
     "data": {
      "text/plain": [
       "array(['Toronto, ON', 'Ottawa, ON', 'Waterloo, ON', 'Calgary, AB',\n",
       "       'Vancouver, BC'], dtype=object)"
      ]
     },
     "execution_count": 74,
     "metadata": {},
     "output_type": "execute_result"
    }
   ],
   "source": [
    "df_cities = df_ds[(df_ds['Location']=='Ottawa, ON') | (df_ds['Location']=='Toronto, ON') | \n",
    "                  (df_ds['Location']=='Vancouver, BC') | (df_ds['Location']=='Montreal, QC')\n",
    "                 | (df_ds['Location']=='Waterloo, ON') | (df_ds['Location']=='Toronto, ON')\n",
    "                 | (df_ds['Location']=='Calgary, AB')]\n",
    "df_cities['Location'].unique()"
   ]
  },
  {
   "cell_type": "code",
   "execution_count": 77,
   "metadata": {},
   "outputs": [
    {
     "data": {
      "text/html": [
       "<div>\n",
       "<style scoped>\n",
       "    .dataframe tbody tr th:only-of-type {\n",
       "        vertical-align: middle;\n",
       "    }\n",
       "\n",
       "    .dataframe tbody tr th {\n",
       "        vertical-align: top;\n",
       "    }\n",
       "\n",
       "    .dataframe thead th {\n",
       "        text-align: right;\n",
       "    }\n",
       "</style>\n",
       "<table border=\"1\" class=\"dataframe\">\n",
       "  <thead>\n",
       "    <tr style=\"text-align: right;\">\n",
       "      <th></th>\n",
       "      <th>Location</th>\n",
       "      <th>Total_Jobs</th>\n",
       "      <th>machine learning</th>\n",
       "      <th>machine learning_percentage</th>\n",
       "      <th>python</th>\n",
       "      <th>python_percentage</th>\n",
       "      <th>sql</th>\n",
       "      <th>sql_percentage</th>\n",
       "      <th>r</th>\n",
       "      <th>r _percentage</th>\n",
       "    </tr>\n",
       "  </thead>\n",
       "  <tbody>\n",
       "    <tr>\n",
       "      <th>0</th>\n",
       "      <td>Calgary, AB</td>\n",
       "      <td>26</td>\n",
       "      <td>19</td>\n",
       "      <td>73</td>\n",
       "      <td>18</td>\n",
       "      <td>69</td>\n",
       "      <td>12</td>\n",
       "      <td>46</td>\n",
       "      <td>8</td>\n",
       "      <td>31</td>\n",
       "    </tr>\n",
       "    <tr>\n",
       "      <th>1</th>\n",
       "      <td>Ottawa, ON</td>\n",
       "      <td>59</td>\n",
       "      <td>47</td>\n",
       "      <td>80</td>\n",
       "      <td>55</td>\n",
       "      <td>93</td>\n",
       "      <td>44</td>\n",
       "      <td>75</td>\n",
       "      <td>15</td>\n",
       "      <td>25</td>\n",
       "    </tr>\n",
       "    <tr>\n",
       "      <th>2</th>\n",
       "      <td>Toronto, ON</td>\n",
       "      <td>231</td>\n",
       "      <td>134</td>\n",
       "      <td>58</td>\n",
       "      <td>164</td>\n",
       "      <td>71</td>\n",
       "      <td>143</td>\n",
       "      <td>62</td>\n",
       "      <td>113</td>\n",
       "      <td>49</td>\n",
       "    </tr>\n",
       "    <tr>\n",
       "      <th>3</th>\n",
       "      <td>Vancouver, BC</td>\n",
       "      <td>54</td>\n",
       "      <td>36</td>\n",
       "      <td>67</td>\n",
       "      <td>33</td>\n",
       "      <td>61</td>\n",
       "      <td>23</td>\n",
       "      <td>43</td>\n",
       "      <td>21</td>\n",
       "      <td>39</td>\n",
       "    </tr>\n",
       "    <tr>\n",
       "      <th>4</th>\n",
       "      <td>Waterloo, ON</td>\n",
       "      <td>12</td>\n",
       "      <td>9</td>\n",
       "      <td>75</td>\n",
       "      <td>8</td>\n",
       "      <td>67</td>\n",
       "      <td>5</td>\n",
       "      <td>42</td>\n",
       "      <td>1</td>\n",
       "      <td>8</td>\n",
       "    </tr>\n",
       "  </tbody>\n",
       "</table>\n",
       "</div>"
      ],
      "text/plain": [
       "        Location  Total_Jobs  machine learning  machine learning_percentage  \\\n",
       "0    Calgary, AB          26                19                           73   \n",
       "1     Ottawa, ON          59                47                           80   \n",
       "2    Toronto, ON         231               134                           58   \n",
       "3  Vancouver, BC          54                36                           67   \n",
       "4   Waterloo, ON          12                 9                           75   \n",
       "\n",
       "   python  python_percentage  sql  sql_percentage   r    r _percentage  \n",
       "0      18                 69   12              46    8              31  \n",
       "1      55                 93   44              75   15              25  \n",
       "2     164                 71  143              62  113              49  \n",
       "3      33                 61   23              43   21              39  \n",
       "4       8                 67    5              42    1               8  "
      ]
     },
     "execution_count": 77,
     "metadata": {},
     "output_type": "execute_result"
    }
   ],
   "source": [
    "Jobs_cities = df_cities.groupby('Location').agg({skill:'count'})\n",
    "Jobs_cities = Jobs_cities.reset_index()\n",
    "\n",
    "Jobs_cities.columns = Jobs_cities.columns.to_series().str.join('_')\n",
    "Jobs_cities.columns = ['Location', 'Total_Jobs']\n",
    "\n",
    "\n",
    "for skill in ['machine learning', 'python', 'sql', ' r ']:\n",
    "    tmp = df_cities.groupby('Location').agg({skill:'sum'})\n",
    "    tmp = tmp.reset_index()\n",
    "\n",
    "    tmp.columns = tmp.columns.to_series().str.join('_')\n",
    "    tmp.columns = ['Location', skill]\n",
    "    #tmp['percentage'] = (tmp[skill+'_sum']/tmp[skill+'_count']).round(2)\n",
    "    Jobs_cities = Jobs_cities.merge(tmp, how='inner', on='Location')\n",
    "    Jobs_cities[skill+'_percentage'] = (Jobs_cities[skill] / Jobs_cities['Total_Jobs']*100).round(0).astype(int)\n",
    "Jobs_cities"
   ]
  },
  {
   "cell_type": "code",
   "execution_count": 78,
   "metadata": {},
   "outputs": [
    {
     "data": {
      "text/plain": [
       "['Location',\n",
       " 'machine learning_percentage',\n",
       " 'python_percentage',\n",
       " 'sql_percentage',\n",
       " ' r _percentage']"
      ]
     },
     "execution_count": 78,
     "metadata": {},
     "output_type": "execute_result"
    }
   ],
   "source": [
    "new_columns = ['Location']\n",
    "for item in Jobs_cities.columns:\n",
    "    if item.endswith('age'):\n",
    "        new_columns.append(item)\n",
    "new_columns        "
   ]
  },
  {
   "cell_type": "code",
   "execution_count": 79,
   "metadata": {},
   "outputs": [
    {
     "data": {
      "text/html": [
       "<div>\n",
       "<style scoped>\n",
       "    .dataframe tbody tr th:only-of-type {\n",
       "        vertical-align: middle;\n",
       "    }\n",
       "\n",
       "    .dataframe tbody tr th {\n",
       "        vertical-align: top;\n",
       "    }\n",
       "\n",
       "    .dataframe thead th {\n",
       "        text-align: right;\n",
       "    }\n",
       "</style>\n",
       "<table border=\"1\" class=\"dataframe\">\n",
       "  <thead>\n",
       "    <tr style=\"text-align: right;\">\n",
       "      <th></th>\n",
       "      <th>Location</th>\n",
       "      <th>machine learning</th>\n",
       "      <th>python</th>\n",
       "      <th>sql</th>\n",
       "      <th>r</th>\n",
       "    </tr>\n",
       "  </thead>\n",
       "  <tbody>\n",
       "    <tr>\n",
       "      <th>0</th>\n",
       "      <td>Calgary, AB</td>\n",
       "      <td>73</td>\n",
       "      <td>69</td>\n",
       "      <td>46</td>\n",
       "      <td>31</td>\n",
       "    </tr>\n",
       "    <tr>\n",
       "      <th>1</th>\n",
       "      <td>Ottawa, ON</td>\n",
       "      <td>80</td>\n",
       "      <td>93</td>\n",
       "      <td>75</td>\n",
       "      <td>25</td>\n",
       "    </tr>\n",
       "    <tr>\n",
       "      <th>2</th>\n",
       "      <td>Toronto, ON</td>\n",
       "      <td>58</td>\n",
       "      <td>71</td>\n",
       "      <td>62</td>\n",
       "      <td>49</td>\n",
       "    </tr>\n",
       "    <tr>\n",
       "      <th>3</th>\n",
       "      <td>Vancouver, BC</td>\n",
       "      <td>67</td>\n",
       "      <td>61</td>\n",
       "      <td>43</td>\n",
       "      <td>39</td>\n",
       "    </tr>\n",
       "    <tr>\n",
       "      <th>4</th>\n",
       "      <td>Waterloo, ON</td>\n",
       "      <td>75</td>\n",
       "      <td>67</td>\n",
       "      <td>42</td>\n",
       "      <td>8</td>\n",
       "    </tr>\n",
       "  </tbody>\n",
       "</table>\n",
       "</div>"
      ],
      "text/plain": [
       "        Location  machine learning  python  sql   r \n",
       "0    Calgary, AB                73      69   46   31\n",
       "1     Ottawa, ON                80      93   75   25\n",
       "2    Toronto, ON                58      71   62   49\n",
       "3  Vancouver, BC                67      61   43   39\n",
       "4   Waterloo, ON                75      67   42    8"
      ]
     },
     "execution_count": 79,
     "metadata": {},
     "output_type": "execute_result"
    }
   ],
   "source": [
    "Jobs_cities = Jobs_cities[new_columns]\n",
    "Jobs_cities.columns = [x.split('_')[0] for x in Jobs_cities.columns]\n",
    "Jobs_cities"
   ]
  },
  {
   "cell_type": "code",
   "execution_count": 80,
   "metadata": {},
   "outputs": [
    {
     "data": {
      "text/plain": [
       "Index(['machine learning', 'python', 'sql', ' r '], dtype='object')"
      ]
     },
     "execution_count": 80,
     "metadata": {},
     "output_type": "execute_result"
    }
   ],
   "source": [
    "Jobs_cities.columns[1:]"
   ]
  },
  {
   "cell_type": "code",
   "execution_count": 91,
   "metadata": {},
   "outputs": [
    {
     "data": {
      "image/png": "[encoded data removed]",
      "text/plain": [
       "<Figure size 864x432 with 1 Axes>"
      ]
     },
     "metadata": {
      "needs_background": "light"
     },
     "output_type": "display_data"
    }
   ],
   "source": [
    "\n",
    "\n",
    "Jobs_cities.plot.bar(x = 'Location', y = Jobs_cities.columns[1:]) # Creating the chart and specifying the axis\n",
    "\n",
    "title = 'Percentage of Requests By Skills For Each City'\n",
    "\n",
    "# Setting the chart title and axis labels:\n",
    "plt.title(title) \n",
    "plt.xlabel('Cities')\n",
    "plt.ylabel('Percentage')\n",
    "\n",
    "\n",
    "plt.margins(0.2)\n",
    "plt.xticks(rotation=60)\n",
    "\n",
    "for i, v in enumerate(Jobs_cities['machine learning']):\n",
    "    plt.text(i-0.26, v+1, str(v)+'%',  fontsize = 'medium')\n",
    "    \n",
    "for i, v in enumerate(Jobs_cities['python']):\n",
    "    plt.text(i-0.13, v+1, str(v)+'%',  fontsize = 'medium')\n",
    "    \n",
    "for i, v in enumerate(Jobs_cities['sql']):\n",
    "    plt.text(i, v+1, str(v)+'%',  fontsize = 'medium')\n",
    "    \n",
    "for i, v in enumerate(Jobs_cities[' r ']):\n",
    "    plt.text(i+0.13, v+1, str(v)+'%',  fontsize = 'medium')\n"
   ]
  },
  {
   "cell_type": "code",
   "execution_count": null,
   "metadata": {},
   "outputs": [],
   "source": []
  },
  {
   "cell_type": "code",
   "execution_count": null,
   "metadata": {},
   "outputs": [],
   "source": []
  }
 ],
 "metadata": {
  "kernelspec": {
   "display_name": "Python 3",
   "language": "python",
   "name": "python3"
  },
  "language_info": {
   "codemirror_mode": {
    "name": "ipython",
    "version": 3
   },
   "file_extension": ".py",
   "mimetype": "text/x-python",
   "name": "python",
   "nbconvert_exporter": "python",
   "pygments_lexer": "ipython3",
   "version": "3.8.3"
  }
 },
 "nbformat": 4,
 "nbformat_minor": 4
}
